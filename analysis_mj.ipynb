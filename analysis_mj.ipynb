{
 "cells": [
  {
   "cell_type": "markdown",
   "metadata": {},
   "source": [
    "# What drives the price of a car?\n",
    "\n",
    "![](images/kurt.jpeg)"
   ]
  },
  {
   "cell_type": "markdown",
   "metadata": {},
   "source": [
    "**OVERVIEW**\n",
    "\n",
    "In this application, you will explore a dataset from kaggle that contains information on 3 million used cars.  Your goal is to understand what factors make a car more or less expensive.  As a result of your analysis, you should provide clear recommendations to your client -- a used car dealership -- as to what consumers value in a used car."
   ]
  },
  {
   "cell_type": "markdown",
   "metadata": {},
   "source": [
    "### CRISP-DM Framework\n",
    "\n",
    "<center>\n",
    "    <img src = images/crisp.png width = 50%/>\n",
    "</center>\n",
    "\n",
    "\n",
    "To frame the task, throughout our practical applications we will refer back to a standard process in industry for data projects called CRISP-DM.  This process provides a framework for working through a data problem.  Your first step in this application will be to read through a brief overview of CRISP-DM [here](https://mo-pcco.s3.us-east-1.amazonaws.com/BH-PCMLAI/module_11/readings_starter.zip).  After reading the overview, answer the questions below."
   ]
  },
  {
   "cell_type": "markdown",
   "metadata": {
    "tags": []
   },
   "source": [
    "# Business Understanding\n",
    "\n",
    "From a business perspective, we are tasked with identifying key drivers for used car prices.  In the CRISP-DM overview, we are asked to convert this business framing to a data problem definition.  Using a few sentences, reframe the task as a data task with the appropriate technical vocabulary. "
   ]
  },
  {
   "cell_type": "markdown",
   "metadata": {},
   "source": [
    "### Captured in README file"
   ]
  },
  {
   "cell_type": "code",
   "execution_count": null,
   "metadata": {},
   "outputs": [],
   "source": []
  },
  {
   "cell_type": "code",
   "execution_count": null,
   "metadata": {},
   "outputs": [],
   "source": []
  },
  {
   "cell_type": "code",
   "execution_count": null,
   "metadata": {},
   "outputs": [],
   "source": []
  },
  {
   "cell_type": "markdown",
   "metadata": {
    "tags": []
   },
   "source": [
    "# Data Understanding\n",
    "\n",
    "After considering the business understanding, we want to get familiar with our data.  Write down some steps that you would take to get to know the dataset and identify any quality issues within.  Take time to get to know the dataset and explore what information it contains and how this could be used to inform your business understanding."
   ]
  },
  {
   "cell_type": "code",
   "execution_count": null,
   "metadata": {},
   "outputs": [],
   "source": [
    "import plotly.express as px\n",
    "import matplotlib.pyplot as plt\n",
    "import seaborn as sns\n",
    "import pandas as pd\n",
    "import numpy as np\n",
    "\n",
    "from sklearn.pipeline import Pipeline\n",
    "from sklearn.model_selection import GridSearchCV\n",
    "from sklearn.linear_model import LinearRegression, Ridge, Lasso\n",
    "from sklearn.preprocessing import PolynomialFeatures, StandardScaler, OneHotEncoder\n",
    "from sklearn.compose import make_column_transformer, TransformedTargetRegressor\n",
    "from sklearn.inspection import permutation_importance\n",
    "from sklearn.feature_selection import SequentialFeatureSelector\n",
    "from sklearn.model_selection import train_test_split\n",
    "from sklearn.metrics import mean_squared_error, mean_absolute_error\n",
    "from statsmodels.stats.outliers_influence import variance_inflation_factor\n",
    "from sklearn.linear_model import BayesianRidge\n",
    "from sklearn.ensemble import RandomForestRegressor\n",
    "\n",
    "\n",
    "import warnings\n",
    "warnings.filterwarnings('ignore')"
   ]
  },
  {
   "cell_type": "code",
   "execution_count": null,
   "metadata": {},
   "outputs": [],
   "source": [
    "pd.options.display.max_seq_items = 2000\n",
    "# pd.set_option('display.max_rows', None)\n",
    "df = pd.read_csv('data/vehicles.csv')"
   ]
  },
  {
   "cell_type": "code",
   "execution_count": null,
   "metadata": {},
   "outputs": [],
   "source": [
    "df.head()"
   ]
  },
  {
   "cell_type": "code",
   "execution_count": null,
   "metadata": {},
   "outputs": [],
   "source": [
    "df.info()"
   ]
  },
  {
   "cell_type": "code",
   "execution_count": null,
   "metadata": {},
   "outputs": [],
   "source": [
    "l= df['manufacturer'].unique().tolist()\n",
    "l.pop(0)\n",
    "l.sort(reverse=True)\n",
    "l"
   ]
  },
  {
   "cell_type": "code",
   "execution_count": null,
   "metadata": {},
   "outputs": [],
   "source": [
    "print(df['manufacturer'].value_counts())\n",
    "print(len(list(df['manufacturer'].value_counts())))\n",
    "print(df['manufacturer'].isnull().sum())"
   ]
  },
  {
   "cell_type": "code",
   "execution_count": null,
   "metadata": {},
   "outputs": [],
   "source": []
  },
  {
   "cell_type": "code",
   "execution_count": null,
   "metadata": {},
   "outputs": [],
   "source": []
  },
  {
   "cell_type": "markdown",
   "metadata": {
    "tags": []
   },
   "source": [
    "# Data Preparation\n",
    "\n",
    "After our initial exploration and fine tuning of the business understanding, it is time to construct our final dataset prior to modeling.  Here, we want to make sure to handle any integrity issues and cleaning, the engineering of new features, any transformations that we believe should happen (scaling, logarithms, normalization, etc.), and general preparation for modeling with `sklearn`. "
   ]
  },
  {
   "cell_type": "markdown",
   "metadata": {
    "tags": []
   },
   "source": [
    "## Missing Values"
   ]
  },
  {
   "cell_type": "markdown",
   "metadata": {
    "jp-MarkdownHeadingCollapsed": true,
    "tags": []
   },
   "source": [
    "### 1. manufacturer and model"
   ]
  },
  {
   "cell_type": "code",
   "execution_count": null,
   "metadata": {},
   "outputs": [],
   "source": [
    "df.query('manufacturer.isnull()', engine='python').query('model.notnull()', engine='python').head()"
   ]
  },
  {
   "cell_type": "code",
   "execution_count": null,
   "metadata": {},
   "outputs": [],
   "source": [
    "df.query('manufacturer.isnull()', engine='python').query('model.notnull()', engine='python')['model'].value_counts()"
   ]
  },
  {
   "cell_type": "code",
   "execution_count": null,
   "metadata": {},
   "outputs": [],
   "source": [
    "unique_models  = list(df.query('manufacturer.isnull()', engine='python').query('model.notnull()', engine='python')['model'].unique())\n",
    "len(unique_models)\n",
    "print(unique_models[:5])"
   ]
  },
  {
   "cell_type": "code",
   "execution_count": null,
   "metadata": {},
   "outputs": [],
   "source": [
    "df_new = df.copy()"
   ]
  },
  {
   "cell_type": "code",
   "execution_count": null,
   "metadata": {},
   "outputs": [],
   "source": [
    "df_new.query('manufacturer.isnull()', engine='python').query('model.notnull()', engine='python')['model'].value_counts()[:5]"
   ]
  },
  {
   "cell_type": "code",
   "execution_count": null,
   "metadata": {},
   "outputs": [],
   "source": [
    "df_new.loc[df_new.model.str.contains('Scion',case=False,na=False) & df_new.manufacturer.isnull(), 'manufacturer'] = 'toyota'\n",
    "df_new.loc[df_new.model.str.contains('Genesis',case=False,na=False) & df_new.manufacturer.isnull(), 'manufacturer'] = 'mercedes-benz'\n",
    "df_new.loc[df_new.model.str.contains('Freightliner',case=False,na=False) & df_new.manufacturer.isnull(), 'manufacturer'] = 'mercedes-benz'\n",
    "df_new.loc[df_new.model.str.contains('HUMMER',case=False,na=False) & df_new.manufacturer.isnull(), 'manufacturer'] = 'mercedes-benz'\n",
    "df_new.loc[df_new.model.str.contains('Honda',case=False,na=False) & df_new.manufacturer.isnull(), 'manufacturer'] = 'honda'\n",
    "df_new.loc[df_new.model.str.contains('International',case=False,na=False) & df_new.manufacturer.isnull(), 'manufacturer'] = 'navistar'\n",
    "df_new.loc[df_new.model.str.contains('WORKHORSE',case=False,na=False) & df_new.manufacturer.isnull(), 'manufacturer'] = 'navistar'\n",
    "df_new.loc[df_new.model.str.contains('Suzuki',case=False,na=False) & df_new.manufacturer.isnull(), 'manufacturer'] = 'suzuki'\n",
    "df_new.loc[df_new.model.str.contains('isuzu',case=False,na=False) & df_new.manufacturer.isnull(), 'manufacturer'] = 'gmc'\n",
    "df_new.loc[df_new.model.str.contains('Maserati',case=False,na=False) & df_new.manufacturer.isnull(), 'manufacturer'] = 'stellantis'\n",
    "df_new.loc[df_new.model.str.contains('volkswagen',case=False,na=False) & df_new.manufacturer.isnull(), 'manufacturer'] = 'volkswagen'\n",
    "df_new.loc[df_new.model.str.contains('bentley',case=False,na=False) & df_new.manufacturer.isnull(), 'manufacturer'] = 'volkswagen'\n",
    "df_new.loc[df_new.model.str.contains('SAAB',case=False,na=False) & df_new.manufacturer.isnull(), 'manufacturer'] = 'gmc'\n",
    "df_new.loc[df_new.model.str.contains('Benz',case=False,na=False) & df_new.manufacturer.isnull(), 'manufacturer'] = 'mercedes-benz'\n",
    "df_new.loc[df_new.model.str.contains('STERLING',case=False,na=False) & df_new.manufacturer.isnull(), 'manufacturer'] = 'mercedes-benz'\n",
    "df_new.loc[df_new.model.str.contains('Polaris',case=False,na=False) & df_new.manufacturer.isnull(), 'manufacturer'] = 'polaris'\n",
    "df_new.loc[df_new.model.str.contains('HOND',case=False,na=False) & df_new.manufacturer.isnull(), 'manufacturer'] = 'honda'\n",
    "df_new.loc[df_new.model.str.contains('ROLLS',case=False,na=False) & df_new.manufacturer.isnull(), 'manufacturer'] = 'bmw'\n",
    "df_new.loc[df_new.model.str.contains('plymouth',case=False,na=False) & df_new.manufacturer.isnull(), 'manufacturer'] = 'chrysler'\n",
    "df_new.loc[df_new.model.str.contains('CHEV',case=False,na=False) & df_new.manufacturer.isnull(), 'manufacturer'] = 'gmc'\n",
    "df_new.loc[df_new.model.str.contains('chry',case=False,na=False) & df_new.manufacturer.isnull(), 'manufacturer'] = 'chrysler'\n",
    "df_new.loc[df_new.model.str.contains('toyo',case=False,na=False) & df_new.manufacturer.isnull(), 'manufacturer'] = 'toyota'\n",
    "df_new.loc[df_new.model.str.contains('olet',case=False,na=False) & df_new.manufacturer.isnull(), 'manufacturer'] = 'gmc'\n",
    "df_new.loc[df_new.model.str.contains('ford',case=False,na=False) & df_new.manufacturer.isnull(), 'manufacturer'] = 'ford'\n",
    "df_new.loc[df_new.model.str.contains('smart',case=False,na=False) & df_new.manufacturer.isnull(), 'manufacturer'] = 'mercedes-benz'\n",
    "df_new.loc[df_new.model.str.contains('hyndai',case=False,na=False) & df_new.manufacturer.isnull(), 'manufacturer'] = 'hyundai'\n",
    "df_new.loc[df_new.model.str.contains('willys',case=False,na=False) & df_new.manufacturer.isnull(), 'manufacturer'] = 'chrysler'\n",
    "df_new.loc[df_new.model.str.contains('wagen',case=False,na=False) & df_new.manufacturer.isnull(), 'manufacturer'] = 'volkswagen'\n",
    "df_new.loc[df_new.model.str.contains('volkswagon',case=False,na=False) & df_new.manufacturer.isnull(), 'manufacturer'] = 'volkswagen'\n",
    "df_new.loc[df_new.model.str.contains('volkswagon',case=False,na=False) & df_new.manufacturer.isnull(), 'manufacturer'] = 'volkswagen'\n",
    "df_new.loc[df_new.model.str.contains('old',case=False,na=False) & df_new.manufacturer.isnull(), 'manufacturer'] = 'gmc'\n",
    "df_new.loc[df_new.model.str.contains('triumph',case=False,na=False) & df_new.manufacturer.isnull(), 'manufacturer'] = 'leyland'\n",
    "df_new.loc[df_new.model.str.contains('kenworth',case=False,na=False) & df_new.manufacturer.isnull(), 'manufacturer'] = 'paccar'\n",
    "df_new.loc[df_new.model.str.contains('peterbilt',case=False,na=False) & df_new.manufacturer.isnull(), 'manufacturer'] = 'paccar'\n",
    "df_new.loc[df_new.model.str.contains('mazda',case=False,na=False) & df_new.manufacturer.isnull(), 'manufacturer'] = 'toyota'\n",
    "df_new.loc[df_new.model.str.contains('lamborghini',case=False,na=False) & df_new.manufacturer.isnull(), 'manufacturer'] = 'volkswagen'\n",
    "df_new.loc[df_new.model.str.startswith('pon',na=False) & df_new.manufacturer.isnull(), 'manufacturer'] = 'gmc'\n",
    "df_new.loc[df_new.model.str.startswith('nis',na=False) & df_new.manufacturer.isnull(), 'manufacturer'] = 'nissan'"
   ]
  },
  {
   "cell_type": "code",
   "execution_count": null,
   "metadata": {},
   "outputs": [],
   "source": [
    "df_new = df_new.drop(df_new.query('manufacturer.isnull()', engine='python').index)\n",
    "df_new = df_new.drop(df_new.query('model.isnull()', engine='python').index)"
   ]
  },
  {
   "cell_type": "code",
   "execution_count": null,
   "metadata": {},
   "outputs": [],
   "source": [
    "unique_models  = list(df_new.query('manufacturer.isnull()', engine='python').query('model.notnull()', engine='python')['model'].unique())\n",
    "len(unique_models)\n",
    "print(unique_models[:5])"
   ]
  },
  {
   "cell_type": "code",
   "execution_count": null,
   "metadata": {},
   "outputs": [],
   "source": [
    "df_new.to_csv('data/vehicles_1.csv')"
   ]
  },
  {
   "cell_type": "markdown",
   "metadata": {},
   "source": [
    "***\n",
    "***\n",
    "***\n",
    "***\n",
    "***\n",
    "***"
   ]
  },
  {
   "cell_type": "markdown",
   "metadata": {
    "jp-MarkdownHeadingCollapsed": true,
    "tags": []
   },
   "source": [
    "### 2. VIN"
   ]
  },
  {
   "cell_type": "code",
   "execution_count": null,
   "metadata": {},
   "outputs": [],
   "source": [
    "# df_new.loc[df_new.VIN.str.len()<17]\n",
    "\n",
    "df_new = df_new.drop(df_new.query('VIN.str.len()<17', engine='python').index)"
   ]
  },
  {
   "cell_type": "code",
   "execution_count": null,
   "metadata": {},
   "outputs": [],
   "source": [
    "# df_new.query('VIN.str.len()<17', engine='python')"
   ]
  },
  {
   "cell_type": "code",
   "execution_count": null,
   "metadata": {},
   "outputs": [],
   "source": [
    "# vins = df[\"VIN\"]\n",
    "# vins.notnull() & vins.duplicated()\n",
    "\n",
    "# df_new[df_new.duplicated(['VIN'], keep=False)]"
   ]
  },
  {
   "cell_type": "code",
   "execution_count": null,
   "metadata": {},
   "outputs": [],
   "source": [
    "df_new.to_csv('data/vehicles_2.csv')\n",
    "df_new.info()"
   ]
  },
  {
   "cell_type": "markdown",
   "metadata": {},
   "source": [
    "***\n",
    "***\n",
    "***\n",
    "***\n",
    "***\n",
    "***"
   ]
  },
  {
   "cell_type": "markdown",
   "metadata": {
    "tags": []
   },
   "source": [
    "### 3. year"
   ]
  },
  {
   "cell_type": "code",
   "execution_count": null,
   "metadata": {},
   "outputs": [],
   "source": [
    "# df2 = df_new.copy()\n",
    "\n",
    "\n",
    "print(df_new['year'].value_counts())\n",
    "print(len(list(df_new['year'].value_counts())))\n",
    "print(df_new['year'].isnull().sum())"
   ]
  },
  {
   "cell_type": "code",
   "execution_count": null,
   "metadata": {},
   "outputs": [],
   "source": [
    "df_new['year'].unique()"
   ]
  },
  {
   "cell_type": "code",
   "execution_count": null,
   "metadata": {},
   "outputs": [],
   "source": [
    "pd.set_option('display.max_rows', 10)\n",
    "\n",
    "df_new.query('year.isnull()', engine='python')\n"
   ]
  },
  {
   "cell_type": "code",
   "execution_count": null,
   "metadata": {},
   "outputs": [],
   "source": [
    "# df_new.loc[df_new.model.str.contains('lamborghini',case=False,na=False) & df_new.manufacturer.isnull(), 'manufacturer'] = 'volkswagen'\n",
    "\n",
    "vins = df_new.query('year.isnull()', engine='python')['VIN'].unique().tolist()\n",
    "\n",
    "year_lookup = {\n",
    "    'J':2018,\n",
    "    'K':2019,\n",
    "    'L':2020,\n",
    "    'M':2021\n",
    "}\n",
    "\n",
    "vin_codes =[]\n",
    "\n",
    "for vin in vins:\n",
    "    # print(vin[9])\n",
    "    vin_codes.append(vin[9])\n",
    "    # print(year_lookup[vin[9]])\n",
    "    # print(vin)\n",
    "    # print(df2.loc[df2.year.isnull() & df2.VIN.str.contains(vin)]['year'])\n",
    "    # print(df2.VIN.str.contains(vin))\n",
    "    df_new.loc[df_new.year.isnull() & df_new.VIN.str.contains(vin), 'year'] = year_lookup[vin[9]]\n",
    "    \n",
    "\n",
    "# x = np.array(vin_codes)\n",
    "# print(np.unique(x))"
   ]
  },
  {
   "cell_type": "code",
   "execution_count": null,
   "metadata": {},
   "outputs": [],
   "source": [
    "print(df_new['year'].isnull().sum())"
   ]
  },
  {
   "cell_type": "code",
   "execution_count": null,
   "metadata": {},
   "outputs": [],
   "source": [
    "print(df_new['year'].value_counts())"
   ]
  },
  {
   "cell_type": "code",
   "execution_count": null,
   "metadata": {},
   "outputs": [],
   "source": [
    "df_new.to_csv('data/vehicles_3.csv')  \n",
    "df_new.info()"
   ]
  },
  {
   "cell_type": "markdown",
   "metadata": {},
   "source": [
    "***\n",
    "***\n",
    "***\n",
    "***\n",
    "***\n",
    "***"
   ]
  },
  {
   "cell_type": "markdown",
   "metadata": {
    "jp-MarkdownHeadingCollapsed": true,
    "tags": []
   },
   "source": [
    "### 4. fuel"
   ]
  },
  {
   "cell_type": "code",
   "execution_count": null,
   "metadata": {},
   "outputs": [],
   "source": [
    "# df2 = df_new.copy()\n",
    "print(df_new['fuel'].value_counts())\n",
    "print(len(list(df_new['fuel'].value_counts())))\n",
    "print(df_new['fuel'].isnull().sum())"
   ]
  },
  {
   "cell_type": "code",
   "execution_count": null,
   "metadata": {},
   "outputs": [],
   "source": [
    "# df_new.query('fuel==\"other\"', engine='python')\n",
    "\n",
    "df_new = df_new.drop(df_new.query('fuel==\"other\"', engine='python').index)\n"
   ]
  },
  {
   "cell_type": "code",
   "execution_count": null,
   "metadata": {},
   "outputs": [],
   "source": [
    "models = df_new.query('fuel.isnull()', engine='python')['model'].unique().tolist()\n",
    "len(models)"
   ]
  },
  {
   "cell_type": "code",
   "execution_count": null,
   "metadata": {},
   "outputs": [],
   "source": [
    "for model in models:\n",
    "    fuels = df_new.loc[df_new.model.str.contains(model)]['fuel'].tolist()\n",
    "    if len(fuels)>0:\n",
    "        df_new.loc[df_new.fuel.isnull() & df_new.model.str.contains(model), 'fuel'] = fuels[0]\n"
   ]
  },
  {
   "cell_type": "code",
   "execution_count": null,
   "metadata": {},
   "outputs": [],
   "source": [
    "df_new.groupby('fuel')[['fuel']].count().plot()\n"
   ]
  },
  {
   "cell_type": "code",
   "execution_count": null,
   "metadata": {},
   "outputs": [],
   "source": [
    "df_new['fuel'].fillna('gas', inplace=True)"
   ]
  },
  {
   "cell_type": "code",
   "execution_count": null,
   "metadata": {},
   "outputs": [],
   "source": [
    "print(df_new['fuel'].value_counts())\n",
    "print(len(list(df_new['fuel'].value_counts())))\n",
    "print(df_new['fuel'].isnull().sum())"
   ]
  },
  {
   "cell_type": "code",
   "execution_count": null,
   "metadata": {},
   "outputs": [],
   "source": [
    "df_new.to_csv('data/vehicles_4.csv')  \n",
    "df_new.info()"
   ]
  },
  {
   "cell_type": "markdown",
   "metadata": {},
   "source": [
    "***\n",
    "***\n",
    "***\n",
    "***\n",
    "***\n",
    "***"
   ]
  },
  {
   "cell_type": "markdown",
   "metadata": {
    "jp-MarkdownHeadingCollapsed": true,
    "tags": []
   },
   "source": [
    "### 5. transmission"
   ]
  },
  {
   "cell_type": "code",
   "execution_count": null,
   "metadata": {},
   "outputs": [],
   "source": [
    "# df2 = df_new.copy()\n",
    "print(df_new['transmission'].value_counts())\n",
    "print(len(list(df_new['transmission'].value_counts())))\n",
    "print(df_new['transmission'].isnull().sum())"
   ]
  },
  {
   "cell_type": "code",
   "execution_count": null,
   "metadata": {},
   "outputs": [],
   "source": [
    "df_new = df_new.drop(df_new.query('transmission==\"other\"', engine='python').index)\n"
   ]
  },
  {
   "cell_type": "code",
   "execution_count": null,
   "metadata": {},
   "outputs": [],
   "source": [
    "models = df_new.query('transmission.isnull()', engine='python')['model'].unique().tolist()\n",
    "len(models)"
   ]
  },
  {
   "cell_type": "code",
   "execution_count": null,
   "metadata": {},
   "outputs": [],
   "source": [
    "for model in models:\n",
    "    fuels = df_new.loc[df_new.model.str.contains(model)]['transmission'].tolist()\n",
    "    if len(fuels)>0:\n",
    "        df_new.loc[df_new.transmission.isnull() & df_new.model.str.contains(model), 'transmission'] = fuels[0]"
   ]
  },
  {
   "cell_type": "code",
   "execution_count": null,
   "metadata": {},
   "outputs": [],
   "source": [
    "df_new.groupby('transmission')[['transmission']].count().plot()\n"
   ]
  },
  {
   "cell_type": "code",
   "execution_count": null,
   "metadata": {},
   "outputs": [],
   "source": [
    "df_new['transmission'].fillna('automatic', inplace=True)"
   ]
  },
  {
   "cell_type": "code",
   "execution_count": null,
   "metadata": {},
   "outputs": [],
   "source": [
    "print(df_new['transmission'].value_counts())\n",
    "print(len(list(df_new['transmission'].value_counts())))\n",
    "print(df_new['transmission'].isnull().sum())"
   ]
  },
  {
   "cell_type": "code",
   "execution_count": null,
   "metadata": {},
   "outputs": [],
   "source": [
    "print(df_new['transmission'].value_counts())\n"
   ]
  },
  {
   "cell_type": "code",
   "execution_count": null,
   "metadata": {},
   "outputs": [],
   "source": [
    "df_new.to_csv('data/vehicles_5.csv')  \n",
    "df_new.info()"
   ]
  },
  {
   "cell_type": "markdown",
   "metadata": {},
   "source": [
    "***\n",
    "***\n",
    "***\n",
    "***\n",
    "***\n",
    "***"
   ]
  },
  {
   "cell_type": "markdown",
   "metadata": {
    "jp-MarkdownHeadingCollapsed": true,
    "tags": []
   },
   "source": [
    "### 6. cylinders"
   ]
  },
  {
   "cell_type": "code",
   "execution_count": null,
   "metadata": {},
   "outputs": [],
   "source": [
    "# df2 = df_new.copy()\n",
    "print(df_new['cylinders'].value_counts())\n",
    "print(len(list(df_new['cylinders'].value_counts())))\n",
    "print(df_new['cylinders'].isnull().sum())"
   ]
  },
  {
   "cell_type": "code",
   "execution_count": null,
   "metadata": {},
   "outputs": [],
   "source": [
    "df_new = df_new.drop(df_new.query('cylinders==\"other\"', engine='python').index)\n"
   ]
  },
  {
   "cell_type": "code",
   "execution_count": null,
   "metadata": {},
   "outputs": [],
   "source": [
    "models = df_new.query('cylinders.isnull()', engine='python')['model'].unique().tolist()\n",
    "len(models)"
   ]
  },
  {
   "cell_type": "code",
   "execution_count": null,
   "metadata": {},
   "outputs": [],
   "source": [
    "for model in models:\n",
    "    fuels = df_new.loc[df_new.model.str.contains(model)]['cylinders'].tolist()\n",
    "    if len(fuels)>0:\n",
    "        df_new.loc[df_new.cylinders.isnull() & df_new.model.str.contains(model), 'cylinders'] = fuels[0]"
   ]
  },
  {
   "cell_type": "code",
   "execution_count": null,
   "metadata": {},
   "outputs": [],
   "source": [
    "print(df_new['cylinders'].value_counts())\n",
    "print(len(list(df_new['cylinders'].value_counts())))\n",
    "print(df_new['cylinders'].isnull().sum())"
   ]
  },
  {
   "cell_type": "code",
   "execution_count": null,
   "metadata": {},
   "outputs": [],
   "source": [
    "# df2 = df_new.copy()\n",
    "\n",
    "# df_new.groupby('cylinders')[['cylinders']].count()\n",
    "df_new.groupby('cylinders')[['cylinders']].count().plot()\n",
    "plt.xticks(rotation = 45)"
   ]
  },
  {
   "cell_type": "code",
   "execution_count": null,
   "metadata": {},
   "outputs": [],
   "source": [
    "df_new.query('cylinders.isnull()', engine='python')"
   ]
  },
  {
   "cell_type": "code",
   "execution_count": null,
   "metadata": {},
   "outputs": [],
   "source": [
    "pd.set_option('display.max_rows', 600)\n",
    "\n",
    "df_new.groupby(['cylinders','year'])[['year']].count().plot()\n",
    "plt.xticks(rotation = 45)"
   ]
  },
  {
   "cell_type": "code",
   "execution_count": null,
   "metadata": {},
   "outputs": [],
   "source": [
    "df_new.loc[(df_new.cylinders.isnull()) & (df_new.year<= 1972.0), 'cylinders'] = '4 cylinders'\n",
    "df_new.loc[(df_new.cylinders.isnull()) & (df_new.year> 1972.0) & (df_new.year<=1984.0), 'cylinders'] = '6 cylinders'\n",
    "df_new.loc[(df_new.cylinders.isnull()) & (df_new.year>1984.0), 'cylinders'] = '8 cylinders'"
   ]
  },
  {
   "cell_type": "code",
   "execution_count": null,
   "metadata": {},
   "outputs": [],
   "source": [
    "print(df_new['cylinders'].value_counts())\n",
    "# print(len(list(df_new['cylinders'].value_counts())))\n",
    "print(df_new['cylinders'].isnull().sum())"
   ]
  },
  {
   "cell_type": "code",
   "execution_count": null,
   "metadata": {},
   "outputs": [],
   "source": [
    "df_new.to_csv('data/vehicles_6.csv')  \n",
    "df_new.info()"
   ]
  },
  {
   "cell_type": "markdown",
   "metadata": {},
   "source": [
    "***\n",
    "***\n",
    "***\n",
    "***\n",
    "***\n",
    "***"
   ]
  },
  {
   "cell_type": "markdown",
   "metadata": {
    "jp-MarkdownHeadingCollapsed": true,
    "tags": []
   },
   "source": [
    "### 7. drive"
   ]
  },
  {
   "cell_type": "code",
   "execution_count": null,
   "metadata": {},
   "outputs": [],
   "source": [
    "# df2 = df_new.copy()\n",
    "print(df_new['drive'].value_counts())\n",
    "print(len(list(df_new['drive'].value_counts())))\n",
    "print(df_new['drive'].isnull().sum())"
   ]
  },
  {
   "cell_type": "code",
   "execution_count": null,
   "metadata": {},
   "outputs": [],
   "source": [
    "df_new['drive'] = df_new['drive'].str.replace(\"fwd\",\"2wd\")\n",
    "df_new['drive'] = df_new['drive'].str.replace(\"rwd\",\"2wd\")"
   ]
  },
  {
   "cell_type": "code",
   "execution_count": null,
   "metadata": {},
   "outputs": [],
   "source": [
    "models = df_new.query('drive.isnull()', engine='python')['model'].unique().tolist()\n",
    "len(models)"
   ]
  },
  {
   "cell_type": "code",
   "execution_count": null,
   "metadata": {},
   "outputs": [],
   "source": [
    "for model in models:\n",
    "    fuels = df_new.loc[df_new.model.str.contains(model)]['drive'].tolist()\n",
    "    if len(fuels)>0:\n",
    "        df_new.loc[df_new.drive.isnull() & df_new.model.str.contains(model), 'drive'] = fuels[0]"
   ]
  },
  {
   "cell_type": "code",
   "execution_count": null,
   "metadata": {},
   "outputs": [],
   "source": [
    "print(df_new['drive'].value_counts())\n",
    "print(len(list(df_new['drive'].value_counts())))\n",
    "print(df_new['drive'].isnull().sum())"
   ]
  },
  {
   "cell_type": "code",
   "execution_count": null,
   "metadata": {},
   "outputs": [],
   "source": [
    "df_new.groupby('drive')[['drive']].count().plot()\n"
   ]
  },
  {
   "cell_type": "code",
   "execution_count": null,
   "metadata": {},
   "outputs": [],
   "source": [
    "models = df_new.query('drive.isnull()', engine='python')['type'].unique().tolist()\n",
    "# len(models)\n",
    "models.pop(0)\n",
    "models"
   ]
  },
  {
   "cell_type": "code",
   "execution_count": null,
   "metadata": {},
   "outputs": [],
   "source": [
    "for model in models:\n",
    "    fuels = df_new.loc[df_new.type.str.contains(model, na=False)]['drive'].tolist()\n",
    "    if len(fuels)>0:\n",
    "        df_new.loc[df_new.drive.isnull() & df_new.type.str.contains(model), 'drive'] = fuels[0]"
   ]
  },
  {
   "cell_type": "code",
   "execution_count": null,
   "metadata": {},
   "outputs": [],
   "source": [
    "print(df_new['drive'].value_counts())\n",
    "print(len(list(df_new['drive'].value_counts())))\n",
    "print(df_new['drive'].isnull().sum())"
   ]
  },
  {
   "cell_type": "code",
   "execution_count": null,
   "metadata": {},
   "outputs": [],
   "source": [
    "df_new.query('drive.isnull()', engine='python')"
   ]
  },
  {
   "cell_type": "code",
   "execution_count": null,
   "metadata": {},
   "outputs": [],
   "source": [
    "models = df_new.query('drive.isnull()', engine='python')['cylinders'].unique().tolist()\n",
    "# len(models)\n",
    "# models.pop(3)\n",
    "models"
   ]
  },
  {
   "cell_type": "code",
   "execution_count": null,
   "metadata": {},
   "outputs": [],
   "source": [
    "for model in models:\n",
    "    fuels = df_new.loc[df_new.cylinders.str.contains(model, na=False)]['drive'].tolist()\n",
    "    if len(fuels)>0:\n",
    "        df_new.loc[df_new.drive.isnull() & df_new.cylinders.str.contains(model), 'drive'] = fuels[0]"
   ]
  },
  {
   "cell_type": "code",
   "execution_count": null,
   "metadata": {},
   "outputs": [],
   "source": [
    "print(df_new['drive'].value_counts())\n",
    "print(len(list(df_new['drive'].value_counts())))\n",
    "print(df_new['drive'].isnull().sum())"
   ]
  },
  {
   "cell_type": "code",
   "execution_count": null,
   "metadata": {},
   "outputs": [],
   "source": [
    "df_new['drive'].fillna('fwd', inplace=True)\n",
    "\n",
    "# df_new['fuel'].fillna('gas', inplace=True)"
   ]
  },
  {
   "cell_type": "code",
   "execution_count": null,
   "metadata": {},
   "outputs": [],
   "source": [
    "print(df_new['drive'].value_counts())\n",
    "print(len(list(df_new['drive'].value_counts())))\n",
    "print(df_new['drive'].isnull().sum())"
   ]
  },
  {
   "cell_type": "code",
   "execution_count": null,
   "metadata": {},
   "outputs": [],
   "source": [
    "df_new.to_csv('data/vehicles_7.csv')\n",
    "df_new.info()"
   ]
  },
  {
   "cell_type": "markdown",
   "metadata": {},
   "source": [
    "***\n",
    "***\n",
    "***\n",
    "***\n",
    "***\n",
    "***"
   ]
  },
  {
   "cell_type": "markdown",
   "metadata": {
    "jp-MarkdownHeadingCollapsed": true,
    "tags": []
   },
   "source": [
    "### 8. type"
   ]
  },
  {
   "cell_type": "code",
   "execution_count": null,
   "metadata": {},
   "outputs": [],
   "source": [
    "print(df_new['type'].value_counts())\n",
    "print(len(list(df_new['type'].value_counts())))\n",
    "print(df_new['type'].isnull().sum())"
   ]
  },
  {
   "cell_type": "code",
   "execution_count": null,
   "metadata": {},
   "outputs": [],
   "source": [
    "df_new = df_new.drop(df_new.query('type==\"other\"', engine='python').index)\n"
   ]
  },
  {
   "cell_type": "code",
   "execution_count": null,
   "metadata": {},
   "outputs": [],
   "source": [
    "models = df_new.query('type.isnull()', engine='python')['model'].unique().tolist()\n",
    "len(models)"
   ]
  },
  {
   "cell_type": "code",
   "execution_count": null,
   "metadata": {},
   "outputs": [],
   "source": [
    "# df2  =  df_new.copy()\n",
    "for model in models:\n",
    "    fuels = df_new.loc[df_new.model.str.contains(model)]['type'].tolist()\n",
    "    if len(fuels)>0:\n",
    "        df_new.loc[df_new.type.isnull() & df_new.model.str.contains(model), 'type'] = fuels[0]"
   ]
  },
  {
   "cell_type": "code",
   "execution_count": null,
   "metadata": {},
   "outputs": [],
   "source": [
    "print(df_new['type'].value_counts())\n",
    "print(len(list(df_new['type'].value_counts())))\n",
    "print(df_new['type'].isnull().sum())"
   ]
  },
  {
   "cell_type": "code",
   "execution_count": null,
   "metadata": {},
   "outputs": [],
   "source": [
    "df_new.query('type.isnull()', engine='python')"
   ]
  },
  {
   "cell_type": "code",
   "execution_count": null,
   "metadata": {},
   "outputs": [],
   "source": [
    "df_new = df_new.drop(df_new.query('type.isnull()', engine='python').index)"
   ]
  },
  {
   "cell_type": "code",
   "execution_count": null,
   "metadata": {},
   "outputs": [],
   "source": [
    "print(df_new['type'].value_counts())\n",
    "print(len(list(df_new['type'].value_counts())))\n",
    "print(df_new['type'].isnull().sum())"
   ]
  },
  {
   "cell_type": "code",
   "execution_count": null,
   "metadata": {},
   "outputs": [],
   "source": [
    "df_new.to_csv('data/vehicles_8.csv')\n",
    "df_new.info()"
   ]
  },
  {
   "cell_type": "markdown",
   "metadata": {},
   "source": [
    "***\n",
    "***\n",
    "***\n",
    "***\n",
    "***\n",
    "***"
   ]
  },
  {
   "cell_type": "markdown",
   "metadata": {
    "jp-MarkdownHeadingCollapsed": true,
    "tags": []
   },
   "source": [
    "### 9. Size"
   ]
  },
  {
   "cell_type": "code",
   "execution_count": null,
   "metadata": {},
   "outputs": [],
   "source": [
    "print(df_new['size'].value_counts())\n",
    "print(len(list(df_new['size'].value_counts())))\n",
    "print(df_new['size'].isnull().sum())"
   ]
  },
  {
   "cell_type": "code",
   "execution_count": null,
   "metadata": {},
   "outputs": [],
   "source": [
    "models = df_new.query('size.isnull()', engine='python')['model'].unique().tolist()\n",
    "len(models)"
   ]
  },
  {
   "cell_type": "code",
   "execution_count": null,
   "metadata": {},
   "outputs": [],
   "source": [
    "# df2  =  df_new.copy()\n",
    "for model in models:\n",
    "    fuels = df_new.loc[df_new.model.str.contains(model)]['size'].tolist()\n",
    "    if len(fuels)>0:\n",
    "        df_new.loc[df_new['size'].isnull() & df_new.model.str.contains(model), 'size'] = fuels[0]"
   ]
  },
  {
   "cell_type": "code",
   "execution_count": null,
   "metadata": {},
   "outputs": [],
   "source": [
    "print(df_new['size'].value_counts())\n",
    "print(len(list(df_new['size'].value_counts())))\n",
    "print(df_new['size'].isnull().sum())"
   ]
  },
  {
   "cell_type": "code",
   "execution_count": null,
   "metadata": {},
   "outputs": [],
   "source": [
    "models = df_new.query('size.isnull()', engine='python')['type'].unique().tolist()\n",
    "len(models)"
   ]
  },
  {
   "cell_type": "code",
   "execution_count": null,
   "metadata": {},
   "outputs": [],
   "source": [
    "# df2  =  df_new.copy()\n",
    "for model in models:\n",
    "    fuels = df_new.loc[df_new['type'].str.contains(model)]['size'].tolist()\n",
    "    if len(fuels)>0:\n",
    "        df_new.loc[df_new['size'].isnull() & df_new['type'].str.contains(model), 'size'] = fuels[0]"
   ]
  },
  {
   "cell_type": "code",
   "execution_count": null,
   "metadata": {},
   "outputs": [],
   "source": [
    "print(df_new['size'].value_counts())\n",
    "print(len(list(df_new['size'].value_counts())))\n",
    "print(df_new['size'].isnull().sum())"
   ]
  },
  {
   "cell_type": "code",
   "execution_count": null,
   "metadata": {},
   "outputs": [],
   "source": [
    "df_new.query('size.isnull()', engine='python').head()"
   ]
  },
  {
   "cell_type": "code",
   "execution_count": null,
   "metadata": {},
   "outputs": [],
   "source": [
    "df_new.groupby(['cylinders','size'])[['size']].count()"
   ]
  },
  {
   "cell_type": "code",
   "execution_count": null,
   "metadata": {},
   "outputs": [],
   "source": [
    "df2  =  df_new.copy()\n",
    "\n",
    "\n",
    "size_lookup = {\n",
    "    '10 cylinders':'full-size',\n",
    "    '12 cylinders':'full-size',\n",
    "    '3 cylinders':'compact',\n",
    "    '4 cylinders':'mid-size',\n",
    "    '5 cylinders':'mid-size',\n",
    "    '6 cylinders':'mid-size',\n",
    "    '8 cylinders':'mid-size',\n",
    "    'other':'full-size'\n",
    "}\n",
    "\n",
    "cyls = df_new.query('size.isnull()', engine='python')['cylinders'].unique().tolist()\n",
    "\n",
    "for cyl in cyls:\n",
    "    # print(vin[9])\n",
    "    # vin_codes.append(vin[9])\n",
    "    # print(year_lookup[vin[9]])\n",
    "    # print(vin)\n",
    "    # print(df2.loc[df2.year.isnull() & df2.VIN.str.contains(vin)]['year'])\n",
    "    # print(df2.VIN.str.contains(vin))\n",
    "    df_new.loc[df_new['size'].isnull() & df_new.cylinders.str.contains(cyl), 'size'] = size_lookup[cyl]\n"
   ]
  },
  {
   "cell_type": "code",
   "execution_count": null,
   "metadata": {},
   "outputs": [],
   "source": [
    "print(df_new['size'].value_counts())\n",
    "print(len(list(df_new['size'].value_counts())))\n",
    "print(df_new['size'].isnull().sum())"
   ]
  },
  {
   "cell_type": "code",
   "execution_count": null,
   "metadata": {},
   "outputs": [],
   "source": [
    "df_new.to_csv('data/vehicles_9.csv')\n",
    "df_new.info()"
   ]
  },
  {
   "cell_type": "markdown",
   "metadata": {},
   "source": [
    "***\n",
    "***\n",
    "***\n",
    "***\n",
    "***\n",
    "***"
   ]
  },
  {
   "cell_type": "markdown",
   "metadata": {
    "jp-MarkdownHeadingCollapsed": true,
    "tags": []
   },
   "source": [
    "### 10. condition"
   ]
  },
  {
   "cell_type": "code",
   "execution_count": null,
   "metadata": {},
   "outputs": [],
   "source": [
    "print(df_new['condition'].value_counts())\n"
   ]
  },
  {
   "cell_type": "code",
   "execution_count": null,
   "metadata": {},
   "outputs": [],
   "source": [
    "df_new['condition'].fillna('fair', inplace=True)"
   ]
  },
  {
   "cell_type": "code",
   "execution_count": null,
   "metadata": {},
   "outputs": [],
   "source": [
    "print(df_new['condition'].isnull().sum())"
   ]
  },
  {
   "cell_type": "code",
   "execution_count": null,
   "metadata": {},
   "outputs": [],
   "source": [
    "df_new.to_csv('data/vehicles_10.csv')\n",
    "df_new.info()"
   ]
  },
  {
   "cell_type": "markdown",
   "metadata": {},
   "source": [
    "***\n",
    "***\n",
    "***\n",
    "***\n",
    "***\n",
    "***"
   ]
  },
  {
   "cell_type": "markdown",
   "metadata": {
    "jp-MarkdownHeadingCollapsed": true,
    "tags": []
   },
   "source": [
    "### 11. title_status"
   ]
  },
  {
   "cell_type": "code",
   "execution_count": null,
   "metadata": {},
   "outputs": [],
   "source": [
    "print(df_new['title_status'].value_counts())\n"
   ]
  },
  {
   "cell_type": "code",
   "execution_count": null,
   "metadata": {},
   "outputs": [],
   "source": [
    "df_new['title_status'].fillna('rebuilt', inplace=True)"
   ]
  },
  {
   "cell_type": "code",
   "execution_count": null,
   "metadata": {},
   "outputs": [],
   "source": [
    "print(df_new['title_status'].isnull().sum())"
   ]
  },
  {
   "cell_type": "code",
   "execution_count": null,
   "metadata": {},
   "outputs": [],
   "source": [
    "df_new.to_csv('data/vehicles_11.csv')\n",
    "df_new.info()"
   ]
  },
  {
   "cell_type": "markdown",
   "metadata": {},
   "source": [
    "***\n",
    "***\n",
    "***\n",
    "***\n",
    "***\n",
    "***"
   ]
  },
  {
   "cell_type": "markdown",
   "metadata": {
    "jp-MarkdownHeadingCollapsed": true,
    "tags": []
   },
   "source": [
    "### 12. paint_color"
   ]
  },
  {
   "cell_type": "code",
   "execution_count": null,
   "metadata": {},
   "outputs": [],
   "source": [
    "print(df_new['paint_color'].value_counts())"
   ]
  },
  {
   "cell_type": "code",
   "execution_count": null,
   "metadata": {},
   "outputs": [],
   "source": [
    "print(df_new['paint_color'].isnull().sum())"
   ]
  },
  {
   "cell_type": "code",
   "execution_count": null,
   "metadata": {},
   "outputs": [],
   "source": [
    "df_new['paint_color'].fillna('grey', inplace=True)"
   ]
  },
  {
   "cell_type": "code",
   "execution_count": null,
   "metadata": {},
   "outputs": [],
   "source": [
    "df_new.to_csv('data/vehicles_12.csv')\n",
    "df_new.info()"
   ]
  },
  {
   "cell_type": "markdown",
   "metadata": {},
   "source": [
    "***\n",
    "***\n",
    "***\n",
    "***\n",
    "***\n",
    "***"
   ]
  },
  {
   "cell_type": "markdown",
   "metadata": {
    "jp-MarkdownHeadingCollapsed": true,
    "tags": []
   },
   "source": [
    "### 13. odometer"
   ]
  },
  {
   "cell_type": "code",
   "execution_count": null,
   "metadata": {},
   "outputs": [],
   "source": [
    "print(df_new['odometer'].value_counts())"
   ]
  },
  {
   "cell_type": "code",
   "execution_count": null,
   "metadata": {},
   "outputs": [],
   "source": [
    "df_new.loc[df_new['odometer'] > 9_999_999]\n",
    "df_new = df_new.drop(df_new.query('odometer>9_999_999', engine='python').index)"
   ]
  },
  {
   "cell_type": "code",
   "execution_count": null,
   "metadata": {},
   "outputs": [],
   "source": [
    "print(df_new['odometer'].value_counts())\n",
    "print(len(list(df_new['odometer'].value_counts())))\n",
    "print(df_new['odometer'].isnull().sum())"
   ]
  },
  {
   "cell_type": "code",
   "execution_count": null,
   "metadata": {},
   "outputs": [],
   "source": [
    "df_new['odometer'] = df_new['odometer'].fillna(df_new['odometer'].mean())"
   ]
  },
  {
   "cell_type": "code",
   "execution_count": null,
   "metadata": {},
   "outputs": [],
   "source": [
    "print(df_new['odometer'].value_counts())\n",
    "print(len(list(df_new['odometer'].value_counts())))\n",
    "print(df_new['odometer'].isnull().sum())"
   ]
  },
  {
   "cell_type": "code",
   "execution_count": null,
   "metadata": {},
   "outputs": [],
   "source": [
    "df_new.to_csv('data/vehicles_13.csv')\n",
    "df_new.info()"
   ]
  },
  {
   "cell_type": "markdown",
   "metadata": {
    "jp-MarkdownHeadingCollapsed": true,
    "tags": []
   },
   "source": [
    "### 14. price"
   ]
  },
  {
   "cell_type": "code",
   "execution_count": null,
   "metadata": {},
   "outputs": [],
   "source": [
    "df_new=pd.read_csv('data/vehicles_13.csv')"
   ]
  },
  {
   "cell_type": "code",
   "execution_count": null,
   "metadata": {},
   "outputs": [],
   "source": [
    "print(df_new['price'].value_counts())\n",
    "print(len(list(df_new['price'].value_counts())))\n",
    "print(df_new['price'].isnull().sum())"
   ]
  },
  {
   "cell_type": "code",
   "execution_count": null,
   "metadata": {},
   "outputs": [],
   "source": [
    "df_new = df_new.drop(df_new.loc[df_new['price'].astype(str).str.len()>6].index)\n",
    "# df_new.loc[df_new['price'].astype(str).str.len()>6].index"
   ]
  },
  {
   "cell_type": "code",
   "execution_count": null,
   "metadata": {},
   "outputs": [],
   "source": [
    "# df_new.loc[(df_new['price']==0)].index\n",
    "df_new = df_new.drop(df_new.loc[df_new['price']==0].index)\n",
    "\n",
    "# df_new.loc[(df_new['price']==0) & (df_new['condition']!='salvage')].index\n"
   ]
  },
  {
   "cell_type": "code",
   "execution_count": null,
   "metadata": {},
   "outputs": [],
   "source": [
    "df_new['price'] = df_new['price'].fillna(df_new['price'].mean())"
   ]
  },
  {
   "cell_type": "code",
   "execution_count": null,
   "metadata": {},
   "outputs": [],
   "source": [
    "df_new.to_csv('data/vehicles_14.csv')\n",
    "df_new.info()"
   ]
  },
  {
   "cell_type": "code",
   "execution_count": null,
   "metadata": {},
   "outputs": [],
   "source": [
    "del df_new['Unnamed: 0']"
   ]
  },
  {
   "cell_type": "markdown",
   "metadata": {},
   "source": [
    "***\n",
    "***\n",
    "***\n",
    "***\n",
    "***\n",
    "***"
   ]
  },
  {
   "cell_type": "markdown",
   "metadata": {
    "tags": []
   },
   "source": [
    "### Taking backup"
   ]
  },
  {
   "cell_type": "code",
   "execution_count": null,
   "metadata": {},
   "outputs": [],
   "source": [
    "df_new.to_csv('data/vehicles_new.csv')  "
   ]
  },
  {
   "cell_type": "markdown",
   "metadata": {
    "tags": []
   },
   "source": [
    "## Dropping and combining"
   ]
  },
  {
   "cell_type": "code",
   "execution_count": null,
   "metadata": {},
   "outputs": [],
   "source": [
    "df_new = pd.read_csv('data/vehicles_new.csv')  \n",
    "df_new.head()\n",
    "del df_new['Unnamed: 0']\n",
    "df_new.head()\n"
   ]
  },
  {
   "cell_type": "code",
   "execution_count": null,
   "metadata": {},
   "outputs": [],
   "source": [
    "df_clean = df_new.copy()"
   ]
  },
  {
   "cell_type": "markdown",
   "metadata": {
    "tags": []
   },
   "source": [
    "### VIN"
   ]
  },
  {
   "cell_type": "markdown",
   "metadata": {},
   "source": [
    "Dropping VIN as its just vehicle identification"
   ]
  },
  {
   "cell_type": "code",
   "execution_count": null,
   "metadata": {},
   "outputs": [],
   "source": [
    "df_clean = df_clean.drop(['VIN'], axis = 1)"
   ]
  },
  {
   "cell_type": "markdown",
   "metadata": {
    "tags": []
   },
   "source": [
    "### id"
   ]
  },
  {
   "cell_type": "markdown",
   "metadata": {},
   "source": [
    "Dropping id as its just row identifier"
   ]
  },
  {
   "cell_type": "code",
   "execution_count": null,
   "metadata": {},
   "outputs": [],
   "source": [
    "df_clean = df_clean.drop(['id'], axis = 1)"
   ]
  },
  {
   "cell_type": "markdown",
   "metadata": {
    "tags": []
   },
   "source": [
    "### Model"
   ]
  },
  {
   "cell_type": "markdown",
   "metadata": {},
   "source": [
    "Dropping model as the column values have lot of redundant information."
   ]
  },
  {
   "cell_type": "code",
   "execution_count": null,
   "metadata": {},
   "outputs": [],
   "source": [
    "df_clean = df_clean.drop(['model'], axis = 1)"
   ]
  },
  {
   "cell_type": "markdown",
   "metadata": {
    "tags": []
   },
   "source": [
    "### size"
   ]
  },
  {
   "cell_type": "markdown",
   "metadata": {},
   "source": [
    "Dropping size as the column is redundant w.r.t type"
   ]
  },
  {
   "cell_type": "code",
   "execution_count": null,
   "metadata": {},
   "outputs": [],
   "source": [
    "df_clean = df_clean.drop(['size'], axis = 1)"
   ]
  },
  {
   "cell_type": "code",
   "execution_count": null,
   "metadata": {},
   "outputs": [],
   "source": []
  },
  {
   "cell_type": "markdown",
   "metadata": {},
   "source": [
    "### state n region"
   ]
  },
  {
   "cell_type": "markdown",
   "metadata": {},
   "source": [
    "To reduce the number of cols generated out of region n state columns, we will categorize the location under US regions below\n",
    "\n",
    "South        \n",
    "West         \n",
    "Midwest      \n",
    "Northeast     "
   ]
  },
  {
   "cell_type": "markdown",
   "metadata": {},
   "source": [
    "#### Pull in state to region mapping."
   ]
  },
  {
   "cell_type": "code",
   "execution_count": null,
   "metadata": {},
   "outputs": [],
   "source": [
    "df_state = pd.read_csv('data/states.csv')"
   ]
  },
  {
   "cell_type": "code",
   "execution_count": null,
   "metadata": {},
   "outputs": [],
   "source": [
    "df_state.info()"
   ]
  },
  {
   "cell_type": "code",
   "execution_count": null,
   "metadata": {},
   "outputs": [],
   "source": [
    "df_state.head()"
   ]
  },
  {
   "cell_type": "code",
   "execution_count": null,
   "metadata": {},
   "outputs": [],
   "source": [
    "state_list =  df_state['State Code'].str.lower().value_counts().index.tolist()\n",
    "# state_list"
   ]
  },
  {
   "cell_type": "code",
   "execution_count": null,
   "metadata": {},
   "outputs": [],
   "source": [
    "data = {}\n",
    "for state in state_list:\n",
    "    # print(df_state.loc[df_state['State Code'].str.lower() == state]['Region'].tolist()[0])\n",
    "    region = df_state.loc[df_state['State Code'].str.lower() == state]['Region'].tolist()[0]\n",
    "    data[state] = region\n"
   ]
  },
  {
   "cell_type": "code",
   "execution_count": null,
   "metadata": {},
   "outputs": [],
   "source": [
    "for state in state_list:\n",
    "    # print(vin[9])\n",
    "    # vin_codes.append(vin[9])\n",
    "    # print(year_lookup[vin[9]])\n",
    "    # print(vin)\n",
    "    # print(df2.loc[df2.year.isnull() & df2.VIN.str.contains(vin)]['year'])\n",
    "    # print(df2.VIN.str.contains(vin))\n",
    "    df_clean.loc[df_clean.state.str.contains(state), 'region'] = data[state]"
   ]
  },
  {
   "cell_type": "code",
   "execution_count": null,
   "metadata": {},
   "outputs": [],
   "source": [
    "df_clean.head()"
   ]
  },
  {
   "cell_type": "code",
   "execution_count": null,
   "metadata": {},
   "outputs": [],
   "source": [
    "df_clean['region'].value_counts()"
   ]
  },
  {
   "cell_type": "code",
   "execution_count": null,
   "metadata": {},
   "outputs": [],
   "source": [
    "df_clean = df_clean.drop(['state'], axis = 1)"
   ]
  },
  {
   "cell_type": "code",
   "execution_count": null,
   "metadata": {},
   "outputs": [],
   "source": []
  },
  {
   "cell_type": "code",
   "execution_count": null,
   "metadata": {},
   "outputs": [],
   "source": [
    "df_clean.info()"
   ]
  },
  {
   "cell_type": "code",
   "execution_count": null,
   "metadata": {},
   "outputs": [],
   "source": [
    "df_clean.head()"
   ]
  },
  {
   "cell_type": "code",
   "execution_count": null,
   "metadata": {},
   "outputs": [],
   "source": [
    "df_clean.to_csv('data/vehicles_clean.csv')  "
   ]
  },
  {
   "cell_type": "code",
   "execution_count": null,
   "metadata": {},
   "outputs": [],
   "source": []
  },
  {
   "cell_type": "code",
   "execution_count": null,
   "metadata": {},
   "outputs": [],
   "source": []
  },
  {
   "cell_type": "code",
   "execution_count": null,
   "metadata": {},
   "outputs": [],
   "source": []
  },
  {
   "cell_type": "code",
   "execution_count": null,
   "metadata": {},
   "outputs": [],
   "source": []
  },
  {
   "cell_type": "markdown",
   "metadata": {
    "tags": []
   },
   "source": [
    "## Visualize"
   ]
  },
  {
   "cell_type": "code",
   "execution_count": 408,
   "metadata": {},
   "outputs": [
    {
     "data": {
      "text/plain": [
       "<seaborn.axisgrid.PairGrid at 0x7f907635fb80>"
      ]
     },
     "execution_count": 408,
     "metadata": {},
     "output_type": "execute_result"
    },
    {
     "data": {
      "image/png": "[encoded data removed]",
      "text/plain": [
       "<Figure size 540x540 with 12 Axes>"
      ]
     },
     "metadata": {
      "needs_background": "light"
     },
     "output_type": "display_data"
    }
   ],
   "source": [
    "sns.pairplot(df_clean)"
   ]
  },
  {
   "cell_type": "markdown",
   "metadata": {
    "tags": []
   },
   "source": [
    "### correlation"
   ]
  },
  {
   "cell_type": "code",
   "execution_count": 409,
   "metadata": {},
   "outputs": [
    {
     "data": {
      "text/plain": [
       "[Text(0.5, 0, 'price'), Text(1.5, 0, 'year'), Text(2.5, 0, 'odometer')]"
      ]
     },
     "execution_count": 409,
     "metadata": {},
     "output_type": "execute_result"
    },
    {
     "data": {
      "image/png": "[encoded data removed]",
      "text/plain": [
       "<Figure size 720x576 with 2 Axes>"
      ]
     },
     "metadata": {},
     "output_type": "display_data"
    }
   ],
   "source": [
    "corr = df_clean.corr()\n",
    "# display(corr)\n",
    "sns.set(rc = {'figure.figsize':(10,8)})\n",
    "ax = sns.heatmap(\n",
    "    corr, \n",
    "    vmin=-1, vmax=1, center=0,\n",
    "    cmap=sns.diverging_palette(20, 220, n=200),\n",
    "    square=True\n",
    ")\n",
    "ax.set_xticklabels(\n",
    "    ax.get_xticklabels(),\n",
    "    rotation=45,\n",
    "    horizontalalignment='right'\n",
    ")"
   ]
  },
  {
   "cell_type": "markdown",
   "metadata": {
    "tags": []
   },
   "source": [
    "### manufacturer vs price"
   ]
  },
  {
   "cell_type": "code",
   "execution_count": 410,
   "metadata": {},
   "outputs": [
    {
     "data": {
      "image/png": "[encoded data removed]",
      "text/plain": [
       "<Figure size 1728x720 with 1 Axes>"
      ]
     },
     "metadata": {},
     "output_type": "display_data"
    }
   ],
   "source": [
    "plt.subplots(figsize=(24,10))\n",
    "sns.barplot( data=df_clean, x='manufacturer', y='price' )\n",
    "plt.title('Price by Manufacturer')\n",
    "plt.xlabel('Manufacturer')\n",
    "plt.ylabel('Price')\n",
    "plt.xticks(rotation = 45)\n",
    "plt.show()"
   ]
  },
  {
   "cell_type": "markdown",
   "metadata": {
    "tags": []
   },
   "source": [
    "### drive vs price"
   ]
  },
  {
   "cell_type": "code",
   "execution_count": 411,
   "metadata": {},
   "outputs": [
    {
     "data": {
      "image/png": "[encoded data removed]",
      "text/plain": [
       "<Figure size 360x360 with 1 Axes>"
      ]
     },
     "metadata": {},
     "output_type": "display_data"
    }
   ],
   "source": [
    "plt.subplots(figsize=(5,5))\n",
    "sns.barplot( data=df_clean, x='drive', y='price' )\n",
    "plt.title('Price by Drive')\n",
    "plt.xlabel('Drive')\n",
    "plt.ylabel('Price')\n",
    "plt.xticks(rotation = 45)\n",
    "plt.show()"
   ]
  },
  {
   "cell_type": "markdown",
   "metadata": {
    "tags": []
   },
   "source": [
    "### cylinders vs price"
   ]
  },
  {
   "cell_type": "code",
   "execution_count": 412,
   "metadata": {},
   "outputs": [
    {
     "data": {
      "image/png": "[encoded data removed]",
      "text/plain": [
       "<Figure size 360x360 with 1 Axes>"
      ]
     },
     "metadata": {},
     "output_type": "display_data"
    }
   ],
   "source": [
    "plt.subplots(figsize=(5,5))\n",
    "sns.barplot( data=df_clean, x='cylinders', y='price' )\n",
    "plt.title('Cylinders by Drive')\n",
    "plt.xlabel('Cylinders')\n",
    "plt.ylabel('Price')\n",
    "plt.xticks(rotation = 45)\n",
    "plt.show()"
   ]
  },
  {
   "cell_type": "markdown",
   "metadata": {},
   "source": [
    "### price distribution"
   ]
  },
  {
   "cell_type": "code",
   "execution_count": 413,
   "metadata": {},
   "outputs": [
    {
     "data": {
      "text/plain": [
       "<AxesSubplot:xlabel='price', ylabel='Count'>"
      ]
     },
     "execution_count": 413,
     "metadata": {},
     "output_type": "execute_result"
    },
    {
     "data": {
      "image/png": "[encoded data removed]",
      "text/plain": [
       "<Figure size 720x432 with 1 Axes>"
      ]
     },
     "metadata": {},
     "output_type": "display_data"
    }
   ],
   "source": [
    "plt.subplots(figsize=(10,6))\n",
    "sns.histplot(df_clean['price'])"
   ]
  },
  {
   "cell_type": "markdown",
   "metadata": {},
   "source": [
    "### price by region"
   ]
  },
  {
   "cell_type": "code",
   "execution_count": 415,
   "metadata": {},
   "outputs": [
    {
     "data": {
      "image/png": "[encoded data removed]",
      "text/plain": [
       "<Figure size 720x576 with 1 Axes>"
      ]
     },
     "metadata": {},
     "output_type": "display_data"
    }
   ],
   "source": [
    "# sns.histplot(df_clean['condition'])\n",
    "\n",
    "df_clean.plot(kind='scatter',x='region',y='price',color='red')\n",
    "plt.figsize=(30,15)\n",
    "plt.title('Price by region')\n",
    "plt.xlabel('Region')\n",
    "plt.ylabel('Price')\n",
    "plt.xticks(rotation = 45)\n",
    "plt.show()"
   ]
  },
  {
   "cell_type": "code",
   "execution_count": null,
   "metadata": {},
   "outputs": [],
   "source": []
  },
  {
   "cell_type": "markdown",
   "metadata": {
    "tags": []
   },
   "source": [
    "## Special Characters"
   ]
  },
  {
   "cell_type": "code",
   "execution_count": null,
   "metadata": {},
   "outputs": [],
   "source": [
    "df_clean= pd.read_csv('data/vehicles_clean.csv')  \n",
    "del df_clean['Unnamed: 0']\n",
    "df_clean.head()"
   ]
  },
  {
   "cell_type": "code",
   "execution_count": null,
   "metadata": {},
   "outputs": [],
   "source": [
    "df_clean['manufacturer'].value_counts()"
   ]
  },
  {
   "cell_type": "code",
   "execution_count": null,
   "metadata": {},
   "outputs": [],
   "source": [
    "df_clean['manufacturer'] = df_clean['manufacturer'].str.replace(\"-\",\"_\")"
   ]
  },
  {
   "cell_type": "code",
   "execution_count": null,
   "metadata": {},
   "outputs": [],
   "source": [
    "df_clean['condition'].value_counts()"
   ]
  },
  {
   "cell_type": "code",
   "execution_count": null,
   "metadata": {},
   "outputs": [],
   "source": [
    "df_clean['condition'] = df_clean['condition'].str.replace(\" \",\"_\")"
   ]
  },
  {
   "cell_type": "code",
   "execution_count": null,
   "metadata": {},
   "outputs": [],
   "source": [
    "df_clean['cylinders'].value_counts()"
   ]
  },
  {
   "cell_type": "code",
   "execution_count": null,
   "metadata": {},
   "outputs": [],
   "source": [
    "df_clean['cylinders'] = df_clean['cylinders'].str.replace(\" \",\"_\")"
   ]
  },
  {
   "cell_type": "code",
   "execution_count": null,
   "metadata": {},
   "outputs": [],
   "source": [
    "df_clean['title_status'].value_counts()"
   ]
  },
  {
   "cell_type": "code",
   "execution_count": null,
   "metadata": {},
   "outputs": [],
   "source": [
    "df_clean['title_status'] = df_clean['title_status'].str.replace(\" \",\"_\")"
   ]
  },
  {
   "cell_type": "code",
   "execution_count": null,
   "metadata": {},
   "outputs": [],
   "source": [
    "df_clean.info()"
   ]
  },
  {
   "cell_type": "markdown",
   "metadata": {},
   "source": [
    "### Taking backup"
   ]
  },
  {
   "cell_type": "code",
   "execution_count": null,
   "metadata": {},
   "outputs": [],
   "source": [
    "df_clean.to_csv('data/vehicles_clean.csv')  "
   ]
  },
  {
   "cell_type": "markdown",
   "metadata": {
    "tags": []
   },
   "source": [
    "# Modeling\n",
    "\n",
    "With your (almost?) final dataset in hand, it is now time to build some models.  Here, you should build a number of different regression models with the price as the target.  In building your models, you should explore different parameters and be sure to cross-validate your findings."
   ]
  },
  {
   "cell_type": "code",
   "execution_count": 396,
   "metadata": {},
   "outputs": [],
   "source": [
    "df_model = pd.read_csv('data/vehicles_clean.csv')\n",
    "del df_model['Unnamed: 0']\n",
    "df_model.head()\n",
    "\n",
    "model_comp = {\n",
    "    'model':['ridge_ohe','ridge_ohe_gcv','linreg_ohe','bay_ohe','rf_ohe'],\n",
    "    'train_mse':[],\n",
    "    'test_mse':[],\n",
    "    'top_features_1':[],\n",
    "    'top_features_score_1':[],\n",
    "    'top_features_2':[],\n",
    "    'top_features_score_2':[],\n",
    "    'top_features_3':[],\n",
    "    'top_features_score_3':[],\n",
    "    'top_features_4':[],\n",
    "    'top_features_score_4':[],\n",
    "    'top_features_5':[],\n",
    "    'top_features_score_5':[],\n",
    "}"
   ]
  },
  {
   "cell_type": "markdown",
   "metadata": {
    "tags": []
   },
   "source": [
    "## Ridge with OHE"
   ]
  },
  {
   "cell_type": "markdown",
   "metadata": {
    "jp-MarkdownHeadingCollapsed": true,
    "tags": []
   },
   "source": [
    "### multi-alpha"
   ]
  },
  {
   "cell_type": "code",
   "execution_count": 263,
   "metadata": {},
   "outputs": [],
   "source": [
    "X = df_model.drop(columns = \"price\")\n",
    "y = df_model['price']\n",
    "X_train, X_test, y_train, y_test = train_test_split(X,y, test_size = 0.3, random_state = 42)"
   ]
  },
  {
   "cell_type": "code",
   "execution_count": 264,
   "metadata": {},
   "outputs": [],
   "source": [
    "train_mses_ridge=[]\n",
    "test_mses_ridge=[]\n",
    "importances_mean_ridge = []\n",
    "\n",
    "#Creating list of aphas to run Ridge regression\n",
    "alphas = [.01,.1,1,10,100]\n",
    "data = {'feature':list(X.columns)}\n",
    "\n",
    "features = list(X.select_dtypes(include=['object']).columns)\n",
    "features\n",
    "ohe_step = make_column_transformer((OneHotEncoder(drop = 'if_binary'), features), remainder=\"passthrough\" )"
   ]
  },
  {
   "cell_type": "code",
   "execution_count": 265,
   "metadata": {},
   "outputs": [
    {
     "name": "stdout",
     "output_type": "stream",
     "text": [
      "[0.0151608  0.20674298 0.05891691 0.01619038 0.04788434 0.08909371\n",
      " 0.03209362 0.00485518 0.00271614 0.01774837 0.06635689 0.00723776]\n",
      "[0.0151608  0.20674283 0.05891689 0.01619038 0.04788432 0.08909369\n",
      " 0.03209361 0.00485518 0.00271613 0.01774837 0.06635687 0.00723776]\n",
      "[0.01516078 0.20674135 0.05891672 0.01619043 0.04788411 0.08909355\n",
      " 0.03209359 0.00485515 0.00271607 0.01774837 0.06635666 0.00723777]\n",
      "[0.0151606  0.20672658 0.058915   0.01619092 0.04788207 0.08909206\n",
      " 0.03209339 0.00485484 0.00271545 0.01774838 0.0663546  0.0072379 ]\n",
      "[0.01515877 0.20657901 0.0588978  0.01619583 0.04786162 0.08907721\n",
      " 0.03209138 0.00485179 0.00270928 0.01774853 0.06633403 0.00723917]\n"
     ]
    }
   ],
   "source": [
    "for alpha in alphas:\n",
    "    pipe = Pipeline([\n",
    "    ('transformer', ohe_step),    \n",
    "    ('scale',StandardScaler(with_mean=False)), \n",
    "    ('ridge', Ridge(alpha = alpha))])\n",
    "    model = pipe.fit(X_train, y_train)\n",
    "    train_mses_ridge.append(mean_squared_error(y_train, pipe.predict(X_train)))\n",
    "    test_mses_ridge.append(mean_squared_error(y_test, pipe.predict(X_test)))\n",
    "    r = permutation_importance(model, X_test, y_test, n_repeats = 10, random_state = 123)\n",
    "    print(r.importances_mean)\n",
    "    # importances_mean_ridge.append(r.importances_mean)\n",
    "    data['coef_for_alpha_'+str(alpha)] = r.importances_mean\n",
    "    # pd.DataFrame({\"Variable\":X.columns, \"Score\":r.importances_mean}).sort_values(by = \"Score\", ascending = False)\n",
    "    # data['coef_for_alpha_'+str(alpha)] = pipe.named_steps['ridge'].coef_"
   ]
  },
  {
   "cell_type": "code",
   "execution_count": 266,
   "metadata": {},
   "outputs": [
    {
     "data": {
      "text/plain": [
       "[135824744.05983534,\n",
       " 135824744.05984944,\n",
       " 135824744.06127173,\n",
       " 135824744.2034483,\n",
       " 135824758.4051221]"
      ]
     },
     "execution_count": 266,
     "metadata": {},
     "output_type": "execute_result"
    }
   ],
   "source": [
    "train_mses_ridge"
   ]
  },
  {
   "cell_type": "code",
   "execution_count": 267,
   "metadata": {},
   "outputs": [
    {
     "data": {
      "text/plain": [
       "[156190345.9489356,\n",
       " 156190345.19910553,\n",
       " 156190337.70211247,\n",
       " 156190262.86268148,\n",
       " 156189527.50273928]"
      ]
     },
     "execution_count": 267,
     "metadata": {},
     "output_type": "execute_result"
    }
   ],
   "source": [
    "test_mses_ridge"
   ]
  },
  {
   "cell_type": "code",
   "execution_count": 268,
   "metadata": {},
   "outputs": [
    {
     "data": {
      "text/plain": [
       "[0.01, 0.1, 1, 10, 100]"
      ]
     },
     "execution_count": 268,
     "metadata": {},
     "output_type": "execute_result"
    }
   ],
   "source": [
    "alphas"
   ]
  },
  {
   "cell_type": "code",
   "execution_count": 269,
   "metadata": {},
   "outputs": [
    {
     "data": {
      "text/html": [
       "<div>\n",
       "<style scoped>\n",
       "    .dataframe tbody tr th:only-of-type {\n",
       "        vertical-align: middle;\n",
       "    }\n",
       "\n",
       "    .dataframe tbody tr th {\n",
       "        vertical-align: top;\n",
       "    }\n",
       "\n",
       "    .dataframe thead th {\n",
       "        text-align: right;\n",
       "    }\n",
       "</style>\n",
       "<table border=\"1\" class=\"dataframe\">\n",
       "  <thead>\n",
       "    <tr style=\"text-align: right;\">\n",
       "      <th></th>\n",
       "      <th>alphas</th>\n",
       "      <th>train_mses</th>\n",
       "      <th>test_mses</th>\n",
       "    </tr>\n",
       "  </thead>\n",
       "  <tbody>\n",
       "    <tr>\n",
       "      <th>0</th>\n",
       "      <td>0.01</td>\n",
       "      <td>1.358247e+08</td>\n",
       "      <td>1.561903e+08</td>\n",
       "    </tr>\n",
       "    <tr>\n",
       "      <th>1</th>\n",
       "      <td>0.10</td>\n",
       "      <td>1.358247e+08</td>\n",
       "      <td>1.561903e+08</td>\n",
       "    </tr>\n",
       "    <tr>\n",
       "      <th>2</th>\n",
       "      <td>1.00</td>\n",
       "      <td>1.358247e+08</td>\n",
       "      <td>1.561903e+08</td>\n",
       "    </tr>\n",
       "    <tr>\n",
       "      <th>3</th>\n",
       "      <td>10.00</td>\n",
       "      <td>1.358247e+08</td>\n",
       "      <td>1.561903e+08</td>\n",
       "    </tr>\n",
       "    <tr>\n",
       "      <th>4</th>\n",
       "      <td>100.00</td>\n",
       "      <td>1.358248e+08</td>\n",
       "      <td>1.561895e+08</td>\n",
       "    </tr>\n",
       "  </tbody>\n",
       "</table>\n",
       "</div>"
      ],
      "text/plain": [
       "   alphas    train_mses     test_mses\n",
       "0    0.01  1.358247e+08  1.561903e+08\n",
       "1    0.10  1.358247e+08  1.561903e+08\n",
       "2    1.00  1.358247e+08  1.561903e+08\n",
       "3   10.00  1.358247e+08  1.561903e+08\n",
       "4  100.00  1.358248e+08  1.561895e+08"
      ]
     },
     "execution_count": 269,
     "metadata": {},
     "output_type": "execute_result"
    }
   ],
   "source": [
    "data2 = {}\n",
    "data2['alphas'] = alphas\n",
    "data2['train_mses'] = train_mses_ridge\n",
    "data2['test_mses'] = test_mses_ridge\n",
    "alpha_df2= pd.DataFrame(data2)\n",
    "alpha_df2"
   ]
  },
  {
   "cell_type": "code",
   "execution_count": 270,
   "metadata": {},
   "outputs": [
    {
     "data": {
      "text/html": [
       "<div>\n",
       "<style scoped>\n",
       "    .dataframe tbody tr th:only-of-type {\n",
       "        vertical-align: middle;\n",
       "    }\n",
       "\n",
       "    .dataframe tbody tr th {\n",
       "        vertical-align: top;\n",
       "    }\n",
       "\n",
       "    .dataframe thead th {\n",
       "        text-align: right;\n",
       "    }\n",
       "</style>\n",
       "<table border=\"1\" class=\"dataframe\">\n",
       "  <thead>\n",
       "    <tr style=\"text-align: right;\">\n",
       "      <th></th>\n",
       "      <th>feature</th>\n",
       "      <th>coef_for_alpha_0.01</th>\n",
       "      <th>coef_for_alpha_0.1</th>\n",
       "      <th>coef_for_alpha_1</th>\n",
       "      <th>coef_for_alpha_10</th>\n",
       "      <th>coef_for_alpha_100</th>\n",
       "    </tr>\n",
       "  </thead>\n",
       "  <tbody>\n",
       "    <tr>\n",
       "      <th>0</th>\n",
       "      <td>region</td>\n",
       "      <td>0.015161</td>\n",
       "      <td>0.015161</td>\n",
       "      <td>0.015161</td>\n",
       "      <td>0.015161</td>\n",
       "      <td>0.015159</td>\n",
       "    </tr>\n",
       "    <tr>\n",
       "      <th>1</th>\n",
       "      <td>year</td>\n",
       "      <td>0.206743</td>\n",
       "      <td>0.206743</td>\n",
       "      <td>0.206741</td>\n",
       "      <td>0.206727</td>\n",
       "      <td>0.206579</td>\n",
       "    </tr>\n",
       "    <tr>\n",
       "      <th>2</th>\n",
       "      <td>manufacturer</td>\n",
       "      <td>0.058917</td>\n",
       "      <td>0.058917</td>\n",
       "      <td>0.058917</td>\n",
       "      <td>0.058915</td>\n",
       "      <td>0.058898</td>\n",
       "    </tr>\n",
       "    <tr>\n",
       "      <th>3</th>\n",
       "      <td>condition</td>\n",
       "      <td>0.016190</td>\n",
       "      <td>0.016190</td>\n",
       "      <td>0.016190</td>\n",
       "      <td>0.016191</td>\n",
       "      <td>0.016196</td>\n",
       "    </tr>\n",
       "    <tr>\n",
       "      <th>4</th>\n",
       "      <td>cylinders</td>\n",
       "      <td>0.047884</td>\n",
       "      <td>0.047884</td>\n",
       "      <td>0.047884</td>\n",
       "      <td>0.047882</td>\n",
       "      <td>0.047862</td>\n",
       "    </tr>\n",
       "    <tr>\n",
       "      <th>5</th>\n",
       "      <td>fuel</td>\n",
       "      <td>0.089094</td>\n",
       "      <td>0.089094</td>\n",
       "      <td>0.089094</td>\n",
       "      <td>0.089092</td>\n",
       "      <td>0.089077</td>\n",
       "    </tr>\n",
       "    <tr>\n",
       "      <th>6</th>\n",
       "      <td>odometer</td>\n",
       "      <td>0.032094</td>\n",
       "      <td>0.032094</td>\n",
       "      <td>0.032094</td>\n",
       "      <td>0.032093</td>\n",
       "      <td>0.032091</td>\n",
       "    </tr>\n",
       "    <tr>\n",
       "      <th>7</th>\n",
       "      <td>title_status</td>\n",
       "      <td>0.004855</td>\n",
       "      <td>0.004855</td>\n",
       "      <td>0.004855</td>\n",
       "      <td>0.004855</td>\n",
       "      <td>0.004852</td>\n",
       "    </tr>\n",
       "    <tr>\n",
       "      <th>8</th>\n",
       "      <td>transmission</td>\n",
       "      <td>0.002716</td>\n",
       "      <td>0.002716</td>\n",
       "      <td>0.002716</td>\n",
       "      <td>0.002715</td>\n",
       "      <td>0.002709</td>\n",
       "    </tr>\n",
       "    <tr>\n",
       "      <th>9</th>\n",
       "      <td>drive</td>\n",
       "      <td>0.017748</td>\n",
       "      <td>0.017748</td>\n",
       "      <td>0.017748</td>\n",
       "      <td>0.017748</td>\n",
       "      <td>0.017749</td>\n",
       "    </tr>\n",
       "    <tr>\n",
       "      <th>10</th>\n",
       "      <td>type</td>\n",
       "      <td>0.066357</td>\n",
       "      <td>0.066357</td>\n",
       "      <td>0.066357</td>\n",
       "      <td>0.066355</td>\n",
       "      <td>0.066334</td>\n",
       "    </tr>\n",
       "    <tr>\n",
       "      <th>11</th>\n",
       "      <td>paint_color</td>\n",
       "      <td>0.007238</td>\n",
       "      <td>0.007238</td>\n",
       "      <td>0.007238</td>\n",
       "      <td>0.007238</td>\n",
       "      <td>0.007239</td>\n",
       "    </tr>\n",
       "  </tbody>\n",
       "</table>\n",
       "</div>"
      ],
      "text/plain": [
       "         feature  coef_for_alpha_0.01  coef_for_alpha_0.1  coef_for_alpha_1  \\\n",
       "0         region             0.015161            0.015161          0.015161   \n",
       "1           year             0.206743            0.206743          0.206741   \n",
       "2   manufacturer             0.058917            0.058917          0.058917   \n",
       "3      condition             0.016190            0.016190          0.016190   \n",
       "4      cylinders             0.047884            0.047884          0.047884   \n",
       "5           fuel             0.089094            0.089094          0.089094   \n",
       "6       odometer             0.032094            0.032094          0.032094   \n",
       "7   title_status             0.004855            0.004855          0.004855   \n",
       "8   transmission             0.002716            0.002716          0.002716   \n",
       "9          drive             0.017748            0.017748          0.017748   \n",
       "10          type             0.066357            0.066357          0.066357   \n",
       "11   paint_color             0.007238            0.007238          0.007238   \n",
       "\n",
       "    coef_for_alpha_10  coef_for_alpha_100  \n",
       "0            0.015161            0.015159  \n",
       "1            0.206727            0.206579  \n",
       "2            0.058915            0.058898  \n",
       "3            0.016191            0.016196  \n",
       "4            0.047882            0.047862  \n",
       "5            0.089092            0.089077  \n",
       "6            0.032093            0.032091  \n",
       "7            0.004855            0.004852  \n",
       "8            0.002715            0.002709  \n",
       "9            0.017748            0.017749  \n",
       "10           0.066355            0.066334  \n",
       "11           0.007238            0.007239  "
      ]
     },
     "execution_count": 270,
     "metadata": {},
     "output_type": "execute_result"
    }
   ],
   "source": [
    "alpha_df= pd.DataFrame(data)\n",
    "alpha_df"
   ]
  },
  {
   "cell_type": "code",
   "execution_count": 271,
   "metadata": {},
   "outputs": [
    {
     "data": {
      "image/png": "[encoded data removed]",
      "text/plain": [
       "<Figure size 2160x2880 with 2 Axes>"
      ]
     },
     "metadata": {
      "needs_background": "light"
     },
     "output_type": "display_data"
    }
   ],
   "source": [
    "fig, ax = plt.subplots(2, 1, figsize = (30, 40))\n",
    "ax[0].plot(alpha_df['feature'], alpha_df['coef_for_alpha_0.01'], '--g', label = 'ridge alpha = .01')\n",
    "ax[0].plot(alpha_df['feature'], alpha_df['coef_for_alpha_0.1'], '--b', label = 'ridge alpha = .1')\n",
    "ax[0].plot(alpha_df['feature'], alpha_df['coef_for_alpha_1'], '--y', label = 'ridge alpha = 1')\n",
    "ax[0].plot(alpha_df['feature'], alpha_df['coef_for_alpha_10'], '--m', label = 'ridge alpha = 10')\n",
    "ax[0].plot(alpha_df['feature'], alpha_df['coef_for_alpha_100'], '--p', label = 'ridge alpha = 100')\n",
    "ax[0].set_xlabel([], fontsize = 20) # X label\n",
    "plt.setp(ax[0].get_xticklabels(), fontsize=12)\n",
    "plt.setp(ax[0].get_yticklabels(), fontsize=14)\n",
    "ax[0].tick_params(labelrotation=45)\n",
    "ax[0].legend(fontsize=14);"
   ]
  },
  {
   "cell_type": "code",
   "execution_count": 272,
   "metadata": {},
   "outputs": [
    {
     "name": "stdout",
     "output_type": "stream",
     "text": [
      "Index(['region', 'year', 'manufacturer', 'condition', 'cylinders', 'fuel',\n",
      "       'odometer', 'title_status', 'transmission', 'drive', 'type',\n",
      "       'paint_color'],\n",
      "      dtype='object')\n",
      "[135824744.05983534, 135824744.05984944, 135824744.06127173, 135824744.2034483, 135824758.4051221]\n",
      "[156190345.9489356, 156190345.19910553, 156190337.70211247, 156190262.86268148, 156189527.50273928]\n"
     ]
    }
   ],
   "source": [
    "print(X.columns)\n",
    "print(train_mses_ridge)\n",
    "print(test_mses_ridge)"
   ]
  },
  {
   "cell_type": "code",
   "execution_count": null,
   "metadata": {},
   "outputs": [],
   "source": []
  },
  {
   "cell_type": "markdown",
   "metadata": {
    "jp-MarkdownHeadingCollapsed": true,
    "tags": []
   },
   "source": [
    "### Single alpha"
   ]
  },
  {
   "cell_type": "code",
   "execution_count": 348,
   "metadata": {},
   "outputs": [],
   "source": [
    "X = df_model.drop(columns = \"price\")\n",
    "y = df_model['price']\n",
    "X_train, X_test, y_train, y_test = train_test_split(X,y, test_size = 0.3, random_state = 42)"
   ]
  },
  {
   "cell_type": "code",
   "execution_count": 349,
   "metadata": {},
   "outputs": [],
   "source": [
    "train_mses_ridge=[]\n",
    "test_mses_ridge=[]\n",
    "importances_mean_ridge = []\n",
    "\n",
    "#Creating list of aphas to run Ridge regression\n",
    "alphas = [.01,.1,1,10,100]\n",
    "data = {'feature':list(X.columns)}\n",
    "\n",
    "features = list(X.select_dtypes(include=['object']).columns)\n",
    "features\n",
    "ohe_step = make_column_transformer((OneHotEncoder(drop = 'if_binary'), features), remainder=\"passthrough\" )"
   ]
  },
  {
   "cell_type": "code",
   "execution_count": 350,
   "metadata": {},
   "outputs": [],
   "source": [
    "pipe = Pipeline([\n",
    "('transformer', ohe_step),    \n",
    "('scale',StandardScaler(with_mean=False)), \n",
    "('reg', Ridge(alpha = .01))])\n",
    "model = pipe.fit(X_train, y_train)"
   ]
  },
  {
   "cell_type": "code",
   "execution_count": 351,
   "metadata": {},
   "outputs": [
    {
     "name": "stdout",
     "output_type": "stream",
     "text": [
      "train_mse= 163525638.69562232  test_mse= 183979123.87182614\n"
     ]
    }
   ],
   "source": [
    "ridge_ohe_train_mse = mean_squared_error(y_train, pipe.predict(X_train))\n",
    "ridge_ohe_test_mse = mean_squared_error(y_test, pipe.predict(X_test))\n",
    "print('train_mse=',ridge_ohe_train_mse,' test_mse=',ridge_ohe_test_mse)"
   ]
  },
  {
   "cell_type": "code",
   "execution_count": 397,
   "metadata": {},
   "outputs": [],
   "source": [
    "model_comp['train_mse'].append('{:.2f}'.format(float(ridge_ohe_train_mse)))\n",
    "model_comp['test_mse'].append('{:.2f}'.format(float(ridge_ohe_test_mse)))"
   ]
  },
  {
   "cell_type": "code",
   "execution_count": 352,
   "metadata": {},
   "outputs": [
    {
     "name": "stdout",
     "output_type": "stream",
     "text": [
      "importance: [0.01680081 0.06236629 0.04671694 0.0187845  0.08794946 0.02963567\n",
      " 0.06015413 0.01878166]\n"
     ]
    }
   ],
   "source": [
    "ridge_ohe_r = permutation_importance(model, X_test, y_test, n_repeats = 10, random_state = 123)\n",
    "print('importance:', ridge_ohe_r.importances_mean)"
   ]
  },
  {
   "cell_type": "code",
   "execution_count": 398,
   "metadata": {},
   "outputs": [
    {
     "data": {
      "text/html": [
       "<div>\n",
       "<style scoped>\n",
       "    .dataframe tbody tr th:only-of-type {\n",
       "        vertical-align: middle;\n",
       "    }\n",
       "\n",
       "    .dataframe tbody tr th {\n",
       "        vertical-align: top;\n",
       "    }\n",
       "\n",
       "    .dataframe thead th {\n",
       "        text-align: right;\n",
       "    }\n",
       "</style>\n",
       "<table border=\"1\" class=\"dataframe\">\n",
       "  <thead>\n",
       "    <tr style=\"text-align: right;\">\n",
       "      <th></th>\n",
       "      <th>Feature</th>\n",
       "      <th>Score</th>\n",
       "    </tr>\n",
       "  </thead>\n",
       "  <tbody>\n",
       "    <tr>\n",
       "      <th>4</th>\n",
       "      <td>fuel</td>\n",
       "      <td>0.087949</td>\n",
       "    </tr>\n",
       "    <tr>\n",
       "      <th>1</th>\n",
       "      <td>manufacturer</td>\n",
       "      <td>0.062366</td>\n",
       "    </tr>\n",
       "    <tr>\n",
       "      <th>6</th>\n",
       "      <td>type</td>\n",
       "      <td>0.060154</td>\n",
       "    </tr>\n",
       "    <tr>\n",
       "      <th>2</th>\n",
       "      <td>condition</td>\n",
       "      <td>0.046717</td>\n",
       "    </tr>\n",
       "    <tr>\n",
       "      <th>5</th>\n",
       "      <td>drive</td>\n",
       "      <td>0.029636</td>\n",
       "    </tr>\n",
       "    <tr>\n",
       "      <th>3</th>\n",
       "      <td>cylinders</td>\n",
       "      <td>0.018785</td>\n",
       "    </tr>\n",
       "    <tr>\n",
       "      <th>7</th>\n",
       "      <td>paint_color</td>\n",
       "      <td>0.018782</td>\n",
       "    </tr>\n",
       "    <tr>\n",
       "      <th>0</th>\n",
       "      <td>region</td>\n",
       "      <td>0.016801</td>\n",
       "    </tr>\n",
       "  </tbody>\n",
       "</table>\n",
       "</div>"
      ],
      "text/plain": [
       "        Feature     Score\n",
       "4          fuel  0.087949\n",
       "1  manufacturer  0.062366\n",
       "6          type  0.060154\n",
       "2     condition  0.046717\n",
       "5         drive  0.029636\n",
       "3     cylinders  0.018785\n",
       "7   paint_color  0.018782\n",
       "0        region  0.016801"
      ]
     },
     "metadata": {},
     "output_type": "display_data"
    },
    {
     "data": {
      "text/plain": [
       "{'model': ['ridge_ohe', 'ridge_ohe_gcv', 'linreg_ohe', 'bay_ohe', 'rf_ohe'],\n",
       " 'train_mse': ['163525638.70'],\n",
       " 'test_mse': ['183979123.87'],\n",
       " 'top_features_1': ['fuel'],\n",
       " 'top_features_score_1': [0.08794945686966837],\n",
       " 'top_features_2': ['manufacturer'],\n",
       " 'top_features_score_2': [0.06236629427019965],\n",
       " 'top_features_3': ['type'],\n",
       " 'top_features_score_3': [0.06015412765133016],\n",
       " 'top_features_4': ['condition'],\n",
       " 'top_features_score_4': [0.046716942516177584],\n",
       " 'top_features_5': ['drive'],\n",
       " 'top_features_score_5': [0.029635665057376172]}"
      ]
     },
     "execution_count": 398,
     "metadata": {},
     "output_type": "execute_result"
    }
   ],
   "source": [
    "df = pd.DataFrame({\"Feature\":X.columns, \"Score\":ridge_ohe_r.importances_mean}).sort_values(by = \"Score\", ascending = False)\n",
    "display(df)\n",
    "ridge_ohe_feature_list = df.loc[df.index[:5]]['Feature'].tolist()\n",
    "ridge_ohe_score_list = df.loc[df.index[:5]]['Score'].tolist()\n",
    "model_comp['top_features_1'].append(ridge_ohe_feature_list[0])\n",
    "model_comp['top_features_2'].append(ridge_ohe_feature_list[1])\n",
    "model_comp['top_features_3'].append(ridge_ohe_feature_list[2])\n",
    "model_comp['top_features_4'].append(ridge_ohe_feature_list[3])\n",
    "model_comp['top_features_5'].append(ridge_ohe_feature_list[4])\n",
    "model_comp['top_features_score_1'].append(ridge_ohe_score_list[0])\n",
    "model_comp['top_features_score_2'].append(ridge_ohe_score_list[1])\n",
    "model_comp['top_features_score_3'].append(ridge_ohe_score_list[2])\n",
    "model_comp['top_features_score_4'].append(ridge_ohe_score_list[3])\n",
    "model_comp['top_features_score_5'].append(ridge_ohe_score_list[4])\n",
    "model_comp"
   ]
  },
  {
   "cell_type": "markdown",
   "metadata": {
    "jp-MarkdownHeadingCollapsed": true,
    "tags": []
   },
   "source": [
    "## Grid Search Cross Validation with Ridge Regression and OHE (Iteration 1)"
   ]
  },
  {
   "cell_type": "code",
   "execution_count": 312,
   "metadata": {},
   "outputs": [],
   "source": [
    "X = df_model.drop(columns = \"price\")\n",
    "y = df_model['price']\n",
    "X_train, X_test, y_train, y_test = train_test_split(X,y, test_size = 0.3, random_state = 42)"
   ]
  },
  {
   "cell_type": "code",
   "execution_count": 313,
   "metadata": {},
   "outputs": [],
   "source": [
    "alphas = [.01,.1,1,10,100]\n",
    "\n",
    "features = list(X.select_dtypes(include=['object']).columns)\n",
    " # make_column_transformer((OneHotEncoder(drop = 'if_binary'), features))\n",
    "ohe_step = make_column_transformer((OneHotEncoder(drop = 'if_binary'), features), remainder=\"passthrough\" )"
   ]
  },
  {
   "cell_type": "code",
   "execution_count": 314,
   "metadata": {},
   "outputs": [],
   "source": [
    "ridge_pipeline = Pipeline([\n",
    "    ('transformer', ohe_step),\n",
    "    ('scale',StandardScaler(with_mean=False)), \n",
    "    ('ridge', Ridge(alpha = .01))])\n",
    "\n",
    "parameters_to_try = {'ridge__alpha': alphas} "
   ]
  },
  {
   "cell_type": "code",
   "execution_count": 315,
   "metadata": {},
   "outputs": [
    {
     "data": {
      "text/plain": [
       "GridSearchCV(estimator=Pipeline(steps=[('transformer',\n",
       "                                        ColumnTransformer(remainder='passthrough',\n",
       "                                                          transformers=[('onehotencoder',\n",
       "                                                                         OneHotEncoder(drop='if_binary'),\n",
       "                                                                         ['region',\n",
       "                                                                          'manufacturer',\n",
       "                                                                          'condition',\n",
       "                                                                          'cylinders',\n",
       "                                                                          'fuel',\n",
       "                                                                          'title_status',\n",
       "                                                                          'transmission',\n",
       "                                                                          'drive',\n",
       "                                                                          'type',\n",
       "                                                                          'paint_color'])])),\n",
       "                                       ('scale',\n",
       "                                        StandardScaler(with_mean=False)),\n",
       "                                       ('ridge', Ridge(alpha=0.01))]),\n",
       "             param_grid={'ridge__alpha': [0.01, 0.1, 1, 10, 100]})"
      ]
     },
     "execution_count": 315,
     "metadata": {},
     "output_type": "execute_result"
    }
   ],
   "source": [
    "selector_grid = GridSearchCV(estimator=ridge_pipeline,\n",
    "                            param_grid = parameters_to_try)\n",
    "selector_grid.fit(X_train, y_train)"
   ]
  },
  {
   "cell_type": "code",
   "execution_count": 316,
   "metadata": {},
   "outputs": [
    {
     "name": "stdout",
     "output_type": "stream",
     "text": [
      "Ridge(alpha=0.01)\n"
     ]
    }
   ],
   "source": [
    "best_estimator = selector_grid.best_estimator_\n",
    "best_selector = best_estimator.named_steps['ridge']\n",
    "print(best_selector)"
   ]
  },
  {
   "cell_type": "code",
   "execution_count": 317,
   "metadata": {},
   "outputs": [
    {
     "name": "stdout",
     "output_type": "stream",
     "text": [
      "importance: [0.0151608  0.20674298 0.05891691 0.01619038 0.04788434 0.08909371\n",
      " 0.03209362 0.00485518 0.00271614 0.01774837 0.06635689 0.00723776]\n"
     ]
    },
    {
     "data": {
      "text/html": [
       "<div>\n",
       "<style scoped>\n",
       "    .dataframe tbody tr th:only-of-type {\n",
       "        vertical-align: middle;\n",
       "    }\n",
       "\n",
       "    .dataframe tbody tr th {\n",
       "        vertical-align: top;\n",
       "    }\n",
       "\n",
       "    .dataframe thead th {\n",
       "        text-align: right;\n",
       "    }\n",
       "</style>\n",
       "<table border=\"1\" class=\"dataframe\">\n",
       "  <thead>\n",
       "    <tr style=\"text-align: right;\">\n",
       "      <th></th>\n",
       "      <th>Variable</th>\n",
       "      <th>Score</th>\n",
       "    </tr>\n",
       "  </thead>\n",
       "  <tbody>\n",
       "    <tr>\n",
       "      <th>1</th>\n",
       "      <td>year</td>\n",
       "      <td>0.206743</td>\n",
       "    </tr>\n",
       "    <tr>\n",
       "      <th>5</th>\n",
       "      <td>fuel</td>\n",
       "      <td>0.089094</td>\n",
       "    </tr>\n",
       "    <tr>\n",
       "      <th>10</th>\n",
       "      <td>type</td>\n",
       "      <td>0.066357</td>\n",
       "    </tr>\n",
       "    <tr>\n",
       "      <th>2</th>\n",
       "      <td>manufacturer</td>\n",
       "      <td>0.058917</td>\n",
       "    </tr>\n",
       "    <tr>\n",
       "      <th>4</th>\n",
       "      <td>cylinders</td>\n",
       "      <td>0.047884</td>\n",
       "    </tr>\n",
       "    <tr>\n",
       "      <th>6</th>\n",
       "      <td>odometer</td>\n",
       "      <td>0.032094</td>\n",
       "    </tr>\n",
       "    <tr>\n",
       "      <th>9</th>\n",
       "      <td>drive</td>\n",
       "      <td>0.017748</td>\n",
       "    </tr>\n",
       "    <tr>\n",
       "      <th>3</th>\n",
       "      <td>condition</td>\n",
       "      <td>0.016190</td>\n",
       "    </tr>\n",
       "    <tr>\n",
       "      <th>0</th>\n",
       "      <td>region</td>\n",
       "      <td>0.015161</td>\n",
       "    </tr>\n",
       "    <tr>\n",
       "      <th>11</th>\n",
       "      <td>paint_color</td>\n",
       "      <td>0.007238</td>\n",
       "    </tr>\n",
       "    <tr>\n",
       "      <th>7</th>\n",
       "      <td>title_status</td>\n",
       "      <td>0.004855</td>\n",
       "    </tr>\n",
       "    <tr>\n",
       "      <th>8</th>\n",
       "      <td>transmission</td>\n",
       "      <td>0.002716</td>\n",
       "    </tr>\n",
       "  </tbody>\n",
       "</table>\n",
       "</div>"
      ],
      "text/plain": [
       "        Variable     Score\n",
       "1           year  0.206743\n",
       "5           fuel  0.089094\n",
       "10          type  0.066357\n",
       "2   manufacturer  0.058917\n",
       "4      cylinders  0.047884\n",
       "6       odometer  0.032094\n",
       "9          drive  0.017748\n",
       "3      condition  0.016190\n",
       "0         region  0.015161\n",
       "11   paint_color  0.007238\n",
       "7   title_status  0.004855\n",
       "8   transmission  0.002716"
      ]
     },
     "execution_count": 317,
     "metadata": {},
     "output_type": "execute_result"
    }
   ],
   "source": [
    "r = permutation_importance(selector_grid, X_test, y_test, n_repeats = 10, random_state = 123)\n",
    "print('importance:', r.importances_mean)\n",
    "pd.DataFrame({\"Variable\":X.columns, \"Score\":r.importances_mean}).sort_values(by = \"Score\", ascending = False)"
   ]
  },
  {
   "cell_type": "code",
   "execution_count": null,
   "metadata": {},
   "outputs": [],
   "source": []
  },
  {
   "cell_type": "markdown",
   "metadata": {
    "tags": []
   },
   "source": [
    "## Dropping columns based on above output"
   ]
  },
  {
   "cell_type": "code",
   "execution_count": 318,
   "metadata": {},
   "outputs": [],
   "source": [
    "df_model = df_model.drop(['odometer','year','transmission','title_status'], axis = 1)"
   ]
  },
  {
   "cell_type": "code",
   "execution_count": 319,
   "metadata": {},
   "outputs": [],
   "source": [
    "df_model.to_csv('data/vehicles_model.csv')"
   ]
  },
  {
   "cell_type": "code",
   "execution_count": 320,
   "metadata": {},
   "outputs": [
    {
     "data": {
      "text/html": [
       "<div>\n",
       "<style scoped>\n",
       "    .dataframe tbody tr th:only-of-type {\n",
       "        vertical-align: middle;\n",
       "    }\n",
       "\n",
       "    .dataframe tbody tr th {\n",
       "        vertical-align: top;\n",
       "    }\n",
       "\n",
       "    .dataframe thead th {\n",
       "        text-align: right;\n",
       "    }\n",
       "</style>\n",
       "<table border=\"1\" class=\"dataframe\">\n",
       "  <thead>\n",
       "    <tr style=\"text-align: right;\">\n",
       "      <th></th>\n",
       "      <th>region</th>\n",
       "      <th>price</th>\n",
       "      <th>manufacturer</th>\n",
       "      <th>condition</th>\n",
       "      <th>cylinders</th>\n",
       "      <th>fuel</th>\n",
       "      <th>drive</th>\n",
       "      <th>type</th>\n",
       "      <th>paint_color</th>\n",
       "    </tr>\n",
       "  </thead>\n",
       "  <tbody>\n",
       "    <tr>\n",
       "      <th>0</th>\n",
       "      <td>South</td>\n",
       "      <td>15000</td>\n",
       "      <td>ford</td>\n",
       "      <td>excellent</td>\n",
       "      <td>6_cylinders</td>\n",
       "      <td>gas</td>\n",
       "      <td>2wd</td>\n",
       "      <td>truck</td>\n",
       "      <td>black</td>\n",
       "    </tr>\n",
       "    <tr>\n",
       "      <th>1</th>\n",
       "      <td>South</td>\n",
       "      <td>35000</td>\n",
       "      <td>toyota</td>\n",
       "      <td>excellent</td>\n",
       "      <td>6_cylinders</td>\n",
       "      <td>gas</td>\n",
       "      <td>4wd</td>\n",
       "      <td>truck</td>\n",
       "      <td>grey</td>\n",
       "    </tr>\n",
       "    <tr>\n",
       "      <th>2</th>\n",
       "      <td>South</td>\n",
       "      <td>19900</td>\n",
       "      <td>ford</td>\n",
       "      <td>good</td>\n",
       "      <td>8_cylinders</td>\n",
       "      <td>diesel</td>\n",
       "      <td>4wd</td>\n",
       "      <td>pickup</td>\n",
       "      <td>blue</td>\n",
       "    </tr>\n",
       "    <tr>\n",
       "      <th>3</th>\n",
       "      <td>South</td>\n",
       "      <td>14000</td>\n",
       "      <td>honda</td>\n",
       "      <td>excellent</td>\n",
       "      <td>6_cylinders</td>\n",
       "      <td>gas</td>\n",
       "      <td>2wd</td>\n",
       "      <td>mini-van</td>\n",
       "      <td>silver</td>\n",
       "    </tr>\n",
       "    <tr>\n",
       "      <th>4</th>\n",
       "      <td>South</td>\n",
       "      <td>22500</td>\n",
       "      <td>ford</td>\n",
       "      <td>good</td>\n",
       "      <td>8_cylinders</td>\n",
       "      <td>diesel</td>\n",
       "      <td>2wd</td>\n",
       "      <td>truck</td>\n",
       "      <td>white</td>\n",
       "    </tr>\n",
       "  </tbody>\n",
       "</table>\n",
       "</div>"
      ],
      "text/plain": [
       "  region  price manufacturer  condition    cylinders    fuel drive      type  \\\n",
       "0  South  15000         ford  excellent  6_cylinders     gas   2wd     truck   \n",
       "1  South  35000       toyota  excellent  6_cylinders     gas   4wd     truck   \n",
       "2  South  19900         ford       good  8_cylinders  diesel   4wd    pickup   \n",
       "3  South  14000        honda  excellent  6_cylinders     gas   2wd  mini-van   \n",
       "4  South  22500         ford       good  8_cylinders  diesel   2wd     truck   \n",
       "\n",
       "  paint_color  \n",
       "0       black  \n",
       "1        grey  \n",
       "2        blue  \n",
       "3      silver  \n",
       "4       white  "
      ]
     },
     "execution_count": 320,
     "metadata": {},
     "output_type": "execute_result"
    }
   ],
   "source": [
    "df_model.head()"
   ]
  },
  {
   "cell_type": "code",
   "execution_count": 321,
   "metadata": {},
   "outputs": [
    {
     "data": {
      "text/html": [
       "<div>\n",
       "<style scoped>\n",
       "    .dataframe tbody tr th:only-of-type {\n",
       "        vertical-align: middle;\n",
       "    }\n",
       "\n",
       "    .dataframe tbody tr th {\n",
       "        vertical-align: top;\n",
       "    }\n",
       "\n",
       "    .dataframe thead th {\n",
       "        text-align: right;\n",
       "    }\n",
       "</style>\n",
       "<table border=\"1\" class=\"dataframe\">\n",
       "  <thead>\n",
       "    <tr style=\"text-align: right;\">\n",
       "      <th></th>\n",
       "      <th>region</th>\n",
       "      <th>price</th>\n",
       "      <th>manufacturer</th>\n",
       "      <th>condition</th>\n",
       "      <th>cylinders</th>\n",
       "      <th>fuel</th>\n",
       "      <th>drive</th>\n",
       "      <th>type</th>\n",
       "      <th>paint_color</th>\n",
       "    </tr>\n",
       "  </thead>\n",
       "  <tbody>\n",
       "    <tr>\n",
       "      <th>0</th>\n",
       "      <td>South</td>\n",
       "      <td>15000</td>\n",
       "      <td>ford</td>\n",
       "      <td>excellent</td>\n",
       "      <td>6_cylinders</td>\n",
       "      <td>gas</td>\n",
       "      <td>2wd</td>\n",
       "      <td>truck</td>\n",
       "      <td>black</td>\n",
       "    </tr>\n",
       "    <tr>\n",
       "      <th>1</th>\n",
       "      <td>South</td>\n",
       "      <td>35000</td>\n",
       "      <td>toyota</td>\n",
       "      <td>excellent</td>\n",
       "      <td>6_cylinders</td>\n",
       "      <td>gas</td>\n",
       "      <td>4wd</td>\n",
       "      <td>truck</td>\n",
       "      <td>grey</td>\n",
       "    </tr>\n",
       "    <tr>\n",
       "      <th>2</th>\n",
       "      <td>South</td>\n",
       "      <td>19900</td>\n",
       "      <td>ford</td>\n",
       "      <td>good</td>\n",
       "      <td>8_cylinders</td>\n",
       "      <td>diesel</td>\n",
       "      <td>4wd</td>\n",
       "      <td>pickup</td>\n",
       "      <td>blue</td>\n",
       "    </tr>\n",
       "    <tr>\n",
       "      <th>3</th>\n",
       "      <td>South</td>\n",
       "      <td>14000</td>\n",
       "      <td>honda</td>\n",
       "      <td>excellent</td>\n",
       "      <td>6_cylinders</td>\n",
       "      <td>gas</td>\n",
       "      <td>2wd</td>\n",
       "      <td>mini-van</td>\n",
       "      <td>silver</td>\n",
       "    </tr>\n",
       "    <tr>\n",
       "      <th>4</th>\n",
       "      <td>South</td>\n",
       "      <td>22500</td>\n",
       "      <td>ford</td>\n",
       "      <td>good</td>\n",
       "      <td>8_cylinders</td>\n",
       "      <td>diesel</td>\n",
       "      <td>2wd</td>\n",
       "      <td>truck</td>\n",
       "      <td>white</td>\n",
       "    </tr>\n",
       "  </tbody>\n",
       "</table>\n",
       "</div>"
      ],
      "text/plain": [
       "  region  price manufacturer  condition    cylinders    fuel drive      type  \\\n",
       "0  South  15000         ford  excellent  6_cylinders     gas   2wd     truck   \n",
       "1  South  35000       toyota  excellent  6_cylinders     gas   4wd     truck   \n",
       "2  South  19900         ford       good  8_cylinders  diesel   4wd    pickup   \n",
       "3  South  14000        honda  excellent  6_cylinders     gas   2wd  mini-van   \n",
       "4  South  22500         ford       good  8_cylinders  diesel   2wd     truck   \n",
       "\n",
       "  paint_color  \n",
       "0       black  \n",
       "1        grey  \n",
       "2        blue  \n",
       "3      silver  \n",
       "4       white  "
      ]
     },
     "execution_count": 321,
     "metadata": {},
     "output_type": "execute_result"
    }
   ],
   "source": [
    "df_model = pd.read_csv('data/vehicles_model.csv')\n",
    "del df_model['Unnamed: 0']\n",
    "df_model.head()"
   ]
  },
  {
   "cell_type": "code",
   "execution_count": null,
   "metadata": {},
   "outputs": [],
   "source": []
  },
  {
   "cell_type": "markdown",
   "metadata": {
    "jp-MarkdownHeadingCollapsed": true,
    "tags": []
   },
   "source": [
    "## Grid Search Cross Validation with Ridge Regression and OHE (Iteration 2)"
   ]
  },
  {
   "cell_type": "code",
   "execution_count": 353,
   "metadata": {},
   "outputs": [],
   "source": [
    "X = df_model.drop(columns = \"price\")\n",
    "y = df_model['price']\n",
    "X_train, X_test, y_train, y_test = train_test_split(X,y, test_size = 0.3, random_state = 42)"
   ]
  },
  {
   "cell_type": "code",
   "execution_count": 354,
   "metadata": {},
   "outputs": [],
   "source": [
    "alphas = [.01,.1,1,10,100]\n",
    "\n",
    "features = list(X.select_dtypes(include=['object']).columns)\n",
    " # make_column_transformer((OneHotEncoder(drop = 'if_binary'), features))\n",
    "ohe_step = make_column_transformer((OneHotEncoder(drop = 'if_binary'), features), remainder=\"passthrough\" )"
   ]
  },
  {
   "cell_type": "code",
   "execution_count": 355,
   "metadata": {},
   "outputs": [],
   "source": [
    "pipe = Pipeline([\n",
    "    ('transformer', ohe_step),\n",
    "    ('scale',StandardScaler(with_mean=False)), \n",
    "    ('reg', Ridge(alpha = .01))])\n",
    "\n",
    "parameters_to_try = {'reg__alpha': alphas} "
   ]
  },
  {
   "cell_type": "code",
   "execution_count": 356,
   "metadata": {},
   "outputs": [],
   "source": [
    "selector_grid = GridSearchCV(estimator=pipe,\n",
    "                            param_grid = parameters_to_try)\n",
    "model = selector_grid.fit(X_train, y_train)"
   ]
  },
  {
   "cell_type": "code",
   "execution_count": 357,
   "metadata": {},
   "outputs": [
    {
     "name": "stdout",
     "output_type": "stream",
     "text": [
      "Ridge(alpha=0.01)\n"
     ]
    }
   ],
   "source": [
    "best_estimator = selector_grid.best_estimator_\n",
    "best_selector = best_estimator.named_steps['reg']\n",
    "print(best_selector)"
   ]
  },
  {
   "cell_type": "code",
   "execution_count": 358,
   "metadata": {},
   "outputs": [
    {
     "name": "stdout",
     "output_type": "stream",
     "text": [
      "train_mse= 163525638.69562232  test_mse= 183979123.87182614\n"
     ]
    }
   ],
   "source": [
    "ridge_ohe_gcv_train_mse = mean_squared_error(y_train, model.predict(X_train))\n",
    "ridge_ohe_gcv_test_mse = mean_squared_error(y_test, model.predict(X_test))\n",
    "print('train_mse=',ridge_ohe_gcv_train_mse,' test_mse=',ridge_ohe_gcv_test_mse)\n"
   ]
  },
  {
   "cell_type": "code",
   "execution_count": 399,
   "metadata": {},
   "outputs": [],
   "source": [
    "model_comp['train_mse'].append('{:.2f}'.format(float(ridge_ohe_train_mse)))\n",
    "model_comp['test_mse'].append('{:.2f}'.format(float(ridge_ohe_test_mse)))"
   ]
  },
  {
   "cell_type": "code",
   "execution_count": 359,
   "metadata": {},
   "outputs": [
    {
     "name": "stdout",
     "output_type": "stream",
     "text": [
      "importance: [0.0151608  0.20674298 0.05891691 0.01619038 0.04788434 0.08909371\n",
      " 0.03209362 0.00485518 0.00271614 0.01774837 0.06635689 0.00723776]\n"
     ]
    }
   ],
   "source": [
    "ridge_ohe_gcv_r = permutation_importance(selector_grid, X_test, y_test, n_repeats = 10, random_state = 123)\n",
    "print('importance:', r.importances_mean)\n"
   ]
  },
  {
   "cell_type": "code",
   "execution_count": 400,
   "metadata": {},
   "outputs": [
    {
     "data": {
      "text/html": [
       "<div>\n",
       "<style scoped>\n",
       "    .dataframe tbody tr th:only-of-type {\n",
       "        vertical-align: middle;\n",
       "    }\n",
       "\n",
       "    .dataframe tbody tr th {\n",
       "        vertical-align: top;\n",
       "    }\n",
       "\n",
       "    .dataframe thead th {\n",
       "        text-align: right;\n",
       "    }\n",
       "</style>\n",
       "<table border=\"1\" class=\"dataframe\">\n",
       "  <thead>\n",
       "    <tr style=\"text-align: right;\">\n",
       "      <th></th>\n",
       "      <th>Feature</th>\n",
       "      <th>Score</th>\n",
       "    </tr>\n",
       "  </thead>\n",
       "  <tbody>\n",
       "    <tr>\n",
       "      <th>4</th>\n",
       "      <td>fuel</td>\n",
       "      <td>0.087949</td>\n",
       "    </tr>\n",
       "    <tr>\n",
       "      <th>1</th>\n",
       "      <td>manufacturer</td>\n",
       "      <td>0.062366</td>\n",
       "    </tr>\n",
       "    <tr>\n",
       "      <th>6</th>\n",
       "      <td>type</td>\n",
       "      <td>0.060154</td>\n",
       "    </tr>\n",
       "    <tr>\n",
       "      <th>2</th>\n",
       "      <td>condition</td>\n",
       "      <td>0.046717</td>\n",
       "    </tr>\n",
       "    <tr>\n",
       "      <th>5</th>\n",
       "      <td>drive</td>\n",
       "      <td>0.029636</td>\n",
       "    </tr>\n",
       "    <tr>\n",
       "      <th>3</th>\n",
       "      <td>cylinders</td>\n",
       "      <td>0.018785</td>\n",
       "    </tr>\n",
       "    <tr>\n",
       "      <th>7</th>\n",
       "      <td>paint_color</td>\n",
       "      <td>0.018782</td>\n",
       "    </tr>\n",
       "    <tr>\n",
       "      <th>0</th>\n",
       "      <td>region</td>\n",
       "      <td>0.016801</td>\n",
       "    </tr>\n",
       "  </tbody>\n",
       "</table>\n",
       "</div>"
      ],
      "text/plain": [
       "        Feature     Score\n",
       "4          fuel  0.087949\n",
       "1  manufacturer  0.062366\n",
       "6          type  0.060154\n",
       "2     condition  0.046717\n",
       "5         drive  0.029636\n",
       "3     cylinders  0.018785\n",
       "7   paint_color  0.018782\n",
       "0        region  0.016801"
      ]
     },
     "metadata": {},
     "output_type": "display_data"
    },
    {
     "data": {
      "text/plain": [
       "{'model': ['ridge_ohe', 'ridge_ohe_gcv', 'linreg_ohe', 'bay_ohe', 'rf_ohe'],\n",
       " 'train_mse': ['163525638.70', '163525638.70'],\n",
       " 'test_mse': ['183979123.87', '183979123.87'],\n",
       " 'top_features_1': ['fuel', 'fuel'],\n",
       " 'top_features_score_1': [0.08794945686966837, 0.08794945686966837],\n",
       " 'top_features_2': ['manufacturer', 'manufacturer'],\n",
       " 'top_features_score_2': [0.06236629427019965, 0.06236629427019965],\n",
       " 'top_features_3': ['type', 'type'],\n",
       " 'top_features_score_3': [0.06015412765133016, 0.06015412765133016],\n",
       " 'top_features_4': ['condition', 'condition'],\n",
       " 'top_features_score_4': [0.046716942516177584, 0.046716942516177584],\n",
       " 'top_features_5': ['drive', 'drive'],\n",
       " 'top_features_score_5': [0.029635665057376172, 0.029635665057376172]}"
      ]
     },
     "execution_count": 400,
     "metadata": {},
     "output_type": "execute_result"
    }
   ],
   "source": [
    "df = pd.DataFrame({\"Feature\":X.columns, \"Score\":ridge_ohe_gcv_r.importances_mean}).sort_values(by = \"Score\", ascending = False)\n",
    "display(df)\n",
    "ridge_ohe_gcv_feature_list = df.loc[df.index[:5]]['Feature'].tolist()\n",
    "ridge_ohe_gcv_score_list = df.loc[df.index[:5]]['Score'].tolist()\n",
    "model_comp['top_features_1'].append(ridge_ohe_gcv_feature_list[0])\n",
    "model_comp['top_features_2'].append(ridge_ohe_gcv_feature_list[1])\n",
    "model_comp['top_features_3'].append(ridge_ohe_gcv_feature_list[2])\n",
    "model_comp['top_features_4'].append(ridge_ohe_gcv_feature_list[3])\n",
    "model_comp['top_features_5'].append(ridge_ohe_gcv_feature_list[4])\n",
    "model_comp['top_features_score_1'].append(ridge_ohe_gcv_score_list[0])\n",
    "model_comp['top_features_score_2'].append(ridge_ohe_gcv_score_list[1])\n",
    "model_comp['top_features_score_3'].append(ridge_ohe_gcv_score_list[2])\n",
    "model_comp['top_features_score_4'].append(ridge_ohe_gcv_score_list[3])\n",
    "model_comp['top_features_score_5'].append(ridge_ohe_gcv_score_list[4])\n",
    "model_comp"
   ]
  },
  {
   "cell_type": "markdown",
   "metadata": {
    "jp-MarkdownHeadingCollapsed": true,
    "tags": []
   },
   "source": [
    "## Linear Regression with Polynomial Feature Selection and OHE"
   ]
  },
  {
   "cell_type": "code",
   "execution_count": 360,
   "metadata": {},
   "outputs": [],
   "source": [
    "X = df_model.drop(columns = \"price\")\n",
    "y = df_model['price']\n",
    "X_train, X_test, y_train, y_test = train_test_split(X,y, test_size = 0.3, random_state = 42)"
   ]
  },
  {
   "cell_type": "code",
   "execution_count": 361,
   "metadata": {},
   "outputs": [],
   "source": [
    "train_mses_ridge=[]\n",
    "test_mses_ridge=[]\n",
    "importances_mean_ridge = []\n",
    "\n",
    "#Creating list of aphas to run Ridge regression\n",
    "data = {'feature':list(X.columns)}\n",
    "\n",
    "features = list(X.select_dtypes(include=['object']).columns)\n",
    "features\n",
    "ohe_step = make_column_transformer((OneHotEncoder(drop = 'if_binary'), features), remainder=\"passthrough\" )"
   ]
  },
  {
   "cell_type": "code",
   "execution_count": 362,
   "metadata": {},
   "outputs": [],
   "source": [
    "pipe = Pipeline([\n",
    "    ('transformer', ohe_step),\n",
    "    ('quad_features', PolynomialFeatures(degree = 2, include_bias=False)), \n",
    "    ('reg', LinearRegression())])\n",
    "\n",
    "model = pipe.fit(X_train,y_train)"
   ]
  },
  {
   "cell_type": "code",
   "execution_count": 363,
   "metadata": {},
   "outputs": [
    {
     "name": "stdout",
     "output_type": "stream",
     "text": [
      "train_mse= 136685207.8867154  test_mse= 167489572.52106464\n"
     ]
    }
   ],
   "source": [
    "linreg_ohe_train_mse = mean_squared_error(y_train, pipe.predict(X_train))\n",
    "linreg_ohe_test_mse = mean_squared_error(y_test, pipe.predict(X_test))\n",
    "print('train_mse=',linreg_ohe_train_mse,' test_mse=',linreg_ohe_test_mse)\n"
   ]
  },
  {
   "cell_type": "code",
   "execution_count": 401,
   "metadata": {},
   "outputs": [],
   "source": [
    "model_comp['train_mse'].append('{:.2f}'.format(float(linreg_ohe_train_mse)))\n",
    "model_comp['test_mse'].append('{:.2f}'.format(float(linreg_ohe_test_mse)))"
   ]
  },
  {
   "cell_type": "code",
   "execution_count": 339,
   "metadata": {},
   "outputs": [
    {
     "name": "stdout",
     "output_type": "stream",
     "text": [
      "[0.02869954 0.29245919 0.07569728 0.09801163 0.08401074 0.05727435\n",
      " 0.21140225 0.05334693]\n"
     ]
    }
   ],
   "source": [
    "linreg_ohe_r = permutation_importance(model, X_test, y_test, n_repeats = 10, random_state = 123)\n",
    "print(linreg_ohe_r.importances_mean)\n"
   ]
  },
  {
   "cell_type": "code",
   "execution_count": 402,
   "metadata": {},
   "outputs": [
    {
     "data": {
      "text/html": [
       "<div>\n",
       "<style scoped>\n",
       "    .dataframe tbody tr th:only-of-type {\n",
       "        vertical-align: middle;\n",
       "    }\n",
       "\n",
       "    .dataframe tbody tr th {\n",
       "        vertical-align: top;\n",
       "    }\n",
       "\n",
       "    .dataframe thead th {\n",
       "        text-align: right;\n",
       "    }\n",
       "</style>\n",
       "<table border=\"1\" class=\"dataframe\">\n",
       "  <thead>\n",
       "    <tr style=\"text-align: right;\">\n",
       "      <th></th>\n",
       "      <th>Feature</th>\n",
       "      <th>Score</th>\n",
       "    </tr>\n",
       "  </thead>\n",
       "  <tbody>\n",
       "    <tr>\n",
       "      <th>1</th>\n",
       "      <td>manufacturer</td>\n",
       "      <td>0.292459</td>\n",
       "    </tr>\n",
       "    <tr>\n",
       "      <th>6</th>\n",
       "      <td>type</td>\n",
       "      <td>0.211402</td>\n",
       "    </tr>\n",
       "    <tr>\n",
       "      <th>3</th>\n",
       "      <td>cylinders</td>\n",
       "      <td>0.098012</td>\n",
       "    </tr>\n",
       "    <tr>\n",
       "      <th>4</th>\n",
       "      <td>fuel</td>\n",
       "      <td>0.084011</td>\n",
       "    </tr>\n",
       "    <tr>\n",
       "      <th>2</th>\n",
       "      <td>condition</td>\n",
       "      <td>0.075697</td>\n",
       "    </tr>\n",
       "    <tr>\n",
       "      <th>5</th>\n",
       "      <td>drive</td>\n",
       "      <td>0.057274</td>\n",
       "    </tr>\n",
       "    <tr>\n",
       "      <th>7</th>\n",
       "      <td>paint_color</td>\n",
       "      <td>0.053347</td>\n",
       "    </tr>\n",
       "    <tr>\n",
       "      <th>0</th>\n",
       "      <td>region</td>\n",
       "      <td>0.028700</td>\n",
       "    </tr>\n",
       "  </tbody>\n",
       "</table>\n",
       "</div>"
      ],
      "text/plain": [
       "        Feature     Score\n",
       "1  manufacturer  0.292459\n",
       "6          type  0.211402\n",
       "3     cylinders  0.098012\n",
       "4          fuel  0.084011\n",
       "2     condition  0.075697\n",
       "5         drive  0.057274\n",
       "7   paint_color  0.053347\n",
       "0        region  0.028700"
      ]
     },
     "metadata": {},
     "output_type": "display_data"
    },
    {
     "data": {
      "text/plain": [
       "{'model': ['ridge_ohe', 'ridge_ohe_gcv', 'linreg_ohe', 'bay_ohe', 'rf_ohe'],\n",
       " 'train_mse': ['163525638.70', '163525638.70', '136685207.89'],\n",
       " 'test_mse': ['183979123.87', '183979123.87', '167489572.52'],\n",
       " 'top_features_1': ['fuel', 'fuel', 'manufacturer'],\n",
       " 'top_features_score_1': [0.08794945686966837,\n",
       "  0.08794945686966837,\n",
       "  0.29245918906779095],\n",
       " 'top_features_2': ['manufacturer', 'manufacturer', 'type'],\n",
       " 'top_features_score_2': [0.06236629427019965,\n",
       "  0.06236629427019965,\n",
       "  0.21140224915491396],\n",
       " 'top_features_3': ['type', 'type', 'cylinders'],\n",
       " 'top_features_score_3': [0.06015412765133016,\n",
       "  0.06015412765133016,\n",
       "  0.09801163192685224],\n",
       " 'top_features_4': ['condition', 'condition', 'fuel'],\n",
       " 'top_features_score_4': [0.046716942516177584,\n",
       "  0.046716942516177584,\n",
       "  0.08401073969809925],\n",
       " 'top_features_5': ['drive', 'drive', 'condition'],\n",
       " 'top_features_score_5': [0.029635665057376172,\n",
       "  0.029635665057376172,\n",
       "  0.07569728027922275]}"
      ]
     },
     "execution_count": 402,
     "metadata": {},
     "output_type": "execute_result"
    }
   ],
   "source": [
    "# importances_mean_ridge.append(r.importances_mean)\n",
    "# data['coef_for_alpha_'+str(alpha)] = r.importances_mean\n",
    "df = pd.DataFrame({\"Feature\":X.columns, \"Score\":linreg_ohe_r.importances_mean}).sort_values(by = \"Score\", ascending = False)\n",
    "display(df)\n",
    "linreg_ohe_feature_list = df.loc[df.index[:5]]['Feature'].tolist()\n",
    "linreg_ohe_score_list = df.loc[df.index[:5]]['Score'].tolist()\n",
    "model_comp['top_features_1'].append(linreg_ohe_feature_list[0])\n",
    "model_comp['top_features_2'].append(linreg_ohe_feature_list[1])\n",
    "model_comp['top_features_3'].append(linreg_ohe_feature_list[2])\n",
    "model_comp['top_features_4'].append(linreg_ohe_feature_list[3])\n",
    "model_comp['top_features_5'].append(linreg_ohe_feature_list[4])\n",
    "model_comp['top_features_score_1'].append(linreg_ohe_score_list[0])\n",
    "model_comp['top_features_score_2'].append(linreg_ohe_score_list[1])\n",
    "model_comp['top_features_score_3'].append(linreg_ohe_score_list[2])\n",
    "model_comp['top_features_score_4'].append(linreg_ohe_score_list[3])\n",
    "model_comp['top_features_score_5'].append(linreg_ohe_score_list[4])\n",
    "model_comp"
   ]
  },
  {
   "cell_type": "markdown",
   "metadata": {
    "tags": []
   },
   "source": [
    "## Bayesian Regression with OHE"
   ]
  },
  {
   "cell_type": "code",
   "execution_count": 342,
   "metadata": {},
   "outputs": [],
   "source": [
    "X = df_model.drop(columns = \"price\")\n",
    "y = df_model['price']\n",
    "X_train, X_test, y_train, y_test = train_test_split(X,y, test_size = 0.3, random_state = 42)"
   ]
  },
  {
   "cell_type": "code",
   "execution_count": 343,
   "metadata": {},
   "outputs": [],
   "source": [
    "train_mses_ridge=[]\n",
    "test_mses_ridge=[]\n",
    "importances_mean_ridge = []\n",
    "\n",
    "#Creating list of aphas to run Ridge regression\n",
    "data = {'feature':list(X.columns)}\n",
    "\n",
    "features = list(X.select_dtypes(include=['object']).columns)\n",
    "features\n",
    "ohe_step = make_column_transformer((OneHotEncoder(drop = 'if_binary', sparse=False), features), remainder=\"passthrough\" )"
   ]
  },
  {
   "cell_type": "code",
   "execution_count": 344,
   "metadata": {},
   "outputs": [],
   "source": [
    "pipe = Pipeline([\n",
    "    ('transformer', ohe_step),\n",
    "    ('scale',StandardScaler(with_mean=False)),\n",
    "    ('reg', BayesianRidge())])\n",
    "model = pipe.fit(X_train,y_train)"
   ]
  },
  {
   "cell_type": "code",
   "execution_count": 345,
   "metadata": {},
   "outputs": [
    {
     "name": "stdout",
     "output_type": "stream",
     "text": [
      "train_mse= 163525707.1404481  test_mse= 183975092.75686082\n"
     ]
    }
   ],
   "source": [
    "bay_ohe_train_mse = mean_squared_error(y_train, pipe.predict(X_train))\n",
    "bay_ohe_test_mse = mean_squared_error(y_test, pipe.predict(X_test))\n",
    "print('train_mse=',bay_ohe_train_mse,' test_mse=',bay_ohe_test_mse)\n"
   ]
  },
  {
   "cell_type": "code",
   "execution_count": 403,
   "metadata": {},
   "outputs": [],
   "source": [
    "model_comp['train_mse'].append('{:.2f}'.format(float(bay_ohe_train_mse)))\n",
    "model_comp['test_mse'].append('{:.2f}'.format(float(bay_ohe_test_mse)))"
   ]
  },
  {
   "cell_type": "code",
   "execution_count": 346,
   "metadata": {},
   "outputs": [
    {
     "name": "stdout",
     "output_type": "stream",
     "text": [
      "[0.01679316 0.06234348 0.04663655 0.01879939 0.08784163 0.02954001\n",
      " 0.06008951 0.01875384]\n"
     ]
    }
   ],
   "source": [
    "bay_ohe_r = permutation_importance(model, X_test, y_test, n_repeats = 10, random_state = 123)\n",
    "print(bay_ohe_r.importances_mean)"
   ]
  },
  {
   "cell_type": "code",
   "execution_count": 404,
   "metadata": {},
   "outputs": [
    {
     "data": {
      "text/html": [
       "<div>\n",
       "<style scoped>\n",
       "    .dataframe tbody tr th:only-of-type {\n",
       "        vertical-align: middle;\n",
       "    }\n",
       "\n",
       "    .dataframe tbody tr th {\n",
       "        vertical-align: top;\n",
       "    }\n",
       "\n",
       "    .dataframe thead th {\n",
       "        text-align: right;\n",
       "    }\n",
       "</style>\n",
       "<table border=\"1\" class=\"dataframe\">\n",
       "  <thead>\n",
       "    <tr style=\"text-align: right;\">\n",
       "      <th></th>\n",
       "      <th>Feature</th>\n",
       "      <th>Score</th>\n",
       "    </tr>\n",
       "  </thead>\n",
       "  <tbody>\n",
       "    <tr>\n",
       "      <th>4</th>\n",
       "      <td>fuel</td>\n",
       "      <td>0.087842</td>\n",
       "    </tr>\n",
       "    <tr>\n",
       "      <th>1</th>\n",
       "      <td>manufacturer</td>\n",
       "      <td>0.062343</td>\n",
       "    </tr>\n",
       "    <tr>\n",
       "      <th>6</th>\n",
       "      <td>type</td>\n",
       "      <td>0.060090</td>\n",
       "    </tr>\n",
       "    <tr>\n",
       "      <th>2</th>\n",
       "      <td>condition</td>\n",
       "      <td>0.046637</td>\n",
       "    </tr>\n",
       "    <tr>\n",
       "      <th>5</th>\n",
       "      <td>drive</td>\n",
       "      <td>0.029540</td>\n",
       "    </tr>\n",
       "    <tr>\n",
       "      <th>3</th>\n",
       "      <td>cylinders</td>\n",
       "      <td>0.018799</td>\n",
       "    </tr>\n",
       "    <tr>\n",
       "      <th>7</th>\n",
       "      <td>paint_color</td>\n",
       "      <td>0.018754</td>\n",
       "    </tr>\n",
       "    <tr>\n",
       "      <th>0</th>\n",
       "      <td>region</td>\n",
       "      <td>0.016793</td>\n",
       "    </tr>\n",
       "  </tbody>\n",
       "</table>\n",
       "</div>"
      ],
      "text/plain": [
       "        Feature     Score\n",
       "4          fuel  0.087842\n",
       "1  manufacturer  0.062343\n",
       "6          type  0.060090\n",
       "2     condition  0.046637\n",
       "5         drive  0.029540\n",
       "3     cylinders  0.018799\n",
       "7   paint_color  0.018754\n",
       "0        region  0.016793"
      ]
     },
     "metadata": {},
     "output_type": "display_data"
    },
    {
     "data": {
      "text/plain": [
       "{'model': ['ridge_ohe', 'ridge_ohe_gcv', 'linreg_ohe', 'bay_ohe', 'rf_ohe'],\n",
       " 'train_mse': ['163525638.70', '163525638.70', '136685207.89', '163525707.14'],\n",
       " 'test_mse': ['183979123.87', '183979123.87', '167489572.52', '183975092.76'],\n",
       " 'top_features_1': ['fuel', 'fuel', 'manufacturer', 'fuel'],\n",
       " 'top_features_score_1': [0.08794945686966837,\n",
       "  0.08794945686966837,\n",
       "  0.29245918906779095,\n",
       "  0.08784162541049507],\n",
       " 'top_features_2': ['manufacturer', 'manufacturer', 'type', 'manufacturer'],\n",
       " 'top_features_score_2': [0.06236629427019965,\n",
       "  0.06236629427019965,\n",
       "  0.21140224915491396,\n",
       "  0.06234348138826042],\n",
       " 'top_features_3': ['type', 'type', 'cylinders', 'type'],\n",
       " 'top_features_score_3': [0.06015412765133016,\n",
       "  0.06015412765133016,\n",
       "  0.09801163192685224,\n",
       "  0.06008950947706758],\n",
       " 'top_features_4': ['condition', 'condition', 'fuel', 'condition'],\n",
       " 'top_features_score_4': [0.046716942516177584,\n",
       "  0.046716942516177584,\n",
       "  0.08401073969809925,\n",
       "  0.04663654775624089],\n",
       " 'top_features_5': ['drive', 'drive', 'condition', 'drive'],\n",
       " 'top_features_score_5': [0.029635665057376172,\n",
       "  0.029635665057376172,\n",
       "  0.07569728027922275,\n",
       "  0.029540011424854195]}"
      ]
     },
     "execution_count": 404,
     "metadata": {},
     "output_type": "execute_result"
    }
   ],
   "source": [
    "# importances_mean_ridge.append(r.importances_mean)\n",
    "# data['coef_for_alpha_'+str(alpha)] = r.importances_mean\n",
    "df = pd.DataFrame({\"Feature\":X.columns, \"Score\":bay_ohe_r.importances_mean}).sort_values(by = \"Score\", ascending = False)\n",
    "display(df)\n",
    "bay_ohe_feature_list = df.loc[df.index[:5]]['Feature'].tolist()\n",
    "bay_ohe_score_list = df.loc[df.index[:5]]['Score'].tolist()\n",
    "model_comp['top_features_1'].append(bay_ohe_feature_list[0])\n",
    "model_comp['top_features_2'].append(bay_ohe_feature_list[1])\n",
    "model_comp['top_features_3'].append(bay_ohe_feature_list[2])\n",
    "model_comp['top_features_4'].append(bay_ohe_feature_list[3])\n",
    "model_comp['top_features_5'].append(bay_ohe_feature_list[4])\n",
    "model_comp['top_features_score_1'].append(bay_ohe_score_list[0])\n",
    "model_comp['top_features_score_2'].append(bay_ohe_score_list[1])\n",
    "model_comp['top_features_score_3'].append(bay_ohe_score_list[2])\n",
    "model_comp['top_features_score_4'].append(bay_ohe_score_list[3])\n",
    "model_comp['top_features_score_5'].append(bay_ohe_score_list[4])\n",
    "model_comp"
   ]
  },
  {
   "cell_type": "markdown",
   "metadata": {
    "tags": []
   },
   "source": [
    "## Random Forest Regression with OHE"
   ]
  },
  {
   "cell_type": "code",
   "execution_count": 366,
   "metadata": {},
   "outputs": [],
   "source": [
    "X = df_model.drop(columns = \"price\")\n",
    "y = df_model['price']\n",
    "X_train, X_test, y_train, y_test = train_test_split(X,y, test_size = 0.3, random_state = 42)"
   ]
  },
  {
   "cell_type": "code",
   "execution_count": 367,
   "metadata": {},
   "outputs": [],
   "source": [
    "train_mses_ridge=[]\n",
    "test_mses_ridge=[]\n",
    "importances_mean_ridge = []\n",
    "\n",
    "#Creating list of aphas to run Ridge regression\n",
    "data = {'feature':list(X.columns)}\n",
    "\n",
    "features = list(X.select_dtypes(include=['object']).columns)\n",
    "features\n",
    "ohe_step = make_column_transformer((OneHotEncoder(drop = 'if_binary', sparse=False), features), remainder=\"passthrough\" )"
   ]
  },
  {
   "cell_type": "code",
   "execution_count": 368,
   "metadata": {},
   "outputs": [],
   "source": [
    "pipe = Pipeline([\n",
    "    ('transformer', ohe_step),\n",
    "    ('scale',StandardScaler(with_mean=False)),\n",
    "    ('reg', RandomForestRegressor())])\n",
    "model = pipe.fit(X_train,y_train)"
   ]
  },
  {
   "cell_type": "code",
   "execution_count": 369,
   "metadata": {},
   "outputs": [
    {
     "name": "stdout",
     "output_type": "stream",
     "text": [
      "train_mse= 89091320.221446  test_mse= 148682657.46689034\n"
     ]
    }
   ],
   "source": [
    "rf_ohe_train_mse = mean_squared_error(y_train, pipe.predict(X_train))\n",
    "rf_ohe_test_mse = mean_squared_error(y_test, pipe.predict(X_test))\n",
    "print('train_mse=',rf_ohe_train_mse,' test_mse=',rf_ohe_test_mse)\n"
   ]
  },
  {
   "cell_type": "code",
   "execution_count": 405,
   "metadata": {},
   "outputs": [],
   "source": [
    "model_comp['train_mse'].append('{:.2f}'.format(float(bay_ohe_train_mse)))\n",
    "model_comp['test_mse'].append('{:.2f}'.format(float(bay_ohe_test_mse)))"
   ]
  },
  {
   "cell_type": "code",
   "execution_count": 370,
   "metadata": {},
   "outputs": [
    {
     "name": "stdout",
     "output_type": "stream",
     "text": [
      "[0.13743127 0.30342517 0.20974919 0.21206661 0.11661019 0.19319084\n",
      " 0.28253126 0.15825452]\n"
     ]
    }
   ],
   "source": [
    "rf_ohe_r = permutation_importance(model, X_test, y_test, n_repeats = 10, random_state = 123)\n",
    "print(rf_ohe_r.importances_mean)\n"
   ]
  },
  {
   "cell_type": "code",
   "execution_count": 406,
   "metadata": {},
   "outputs": [
    {
     "data": {
      "text/html": [
       "<div>\n",
       "<style scoped>\n",
       "    .dataframe tbody tr th:only-of-type {\n",
       "        vertical-align: middle;\n",
       "    }\n",
       "\n",
       "    .dataframe tbody tr th {\n",
       "        vertical-align: top;\n",
       "    }\n",
       "\n",
       "    .dataframe thead th {\n",
       "        text-align: right;\n",
       "    }\n",
       "</style>\n",
       "<table border=\"1\" class=\"dataframe\">\n",
       "  <thead>\n",
       "    <tr style=\"text-align: right;\">\n",
       "      <th></th>\n",
       "      <th>Feature</th>\n",
       "      <th>Score</th>\n",
       "    </tr>\n",
       "  </thead>\n",
       "  <tbody>\n",
       "    <tr>\n",
       "      <th>1</th>\n",
       "      <td>manufacturer</td>\n",
       "      <td>0.303425</td>\n",
       "    </tr>\n",
       "    <tr>\n",
       "      <th>6</th>\n",
       "      <td>type</td>\n",
       "      <td>0.282531</td>\n",
       "    </tr>\n",
       "    <tr>\n",
       "      <th>3</th>\n",
       "      <td>cylinders</td>\n",
       "      <td>0.212067</td>\n",
       "    </tr>\n",
       "    <tr>\n",
       "      <th>2</th>\n",
       "      <td>condition</td>\n",
       "      <td>0.209749</td>\n",
       "    </tr>\n",
       "    <tr>\n",
       "      <th>5</th>\n",
       "      <td>drive</td>\n",
       "      <td>0.193191</td>\n",
       "    </tr>\n",
       "    <tr>\n",
       "      <th>7</th>\n",
       "      <td>paint_color</td>\n",
       "      <td>0.158255</td>\n",
       "    </tr>\n",
       "    <tr>\n",
       "      <th>0</th>\n",
       "      <td>region</td>\n",
       "      <td>0.137431</td>\n",
       "    </tr>\n",
       "    <tr>\n",
       "      <th>4</th>\n",
       "      <td>fuel</td>\n",
       "      <td>0.116610</td>\n",
       "    </tr>\n",
       "  </tbody>\n",
       "</table>\n",
       "</div>"
      ],
      "text/plain": [
       "        Feature     Score\n",
       "1  manufacturer  0.303425\n",
       "6          type  0.282531\n",
       "3     cylinders  0.212067\n",
       "2     condition  0.209749\n",
       "5         drive  0.193191\n",
       "7   paint_color  0.158255\n",
       "0        region  0.137431\n",
       "4          fuel  0.116610"
      ]
     },
     "metadata": {},
     "output_type": "display_data"
    },
    {
     "data": {
      "text/plain": [
       "{'model': ['ridge_ohe', 'ridge_ohe_gcv', 'linreg_ohe', 'bay_ohe', 'rf_ohe'],\n",
       " 'train_mse': ['163525638.70',\n",
       "  '163525638.70',\n",
       "  '136685207.89',\n",
       "  '163525707.14',\n",
       "  '163525707.14'],\n",
       " 'test_mse': ['183979123.87',\n",
       "  '183979123.87',\n",
       "  '167489572.52',\n",
       "  '183975092.76',\n",
       "  '183975092.76'],\n",
       " 'top_features_1': ['fuel', 'fuel', 'manufacturer', 'fuel', 'manufacturer'],\n",
       " 'top_features_score_1': [0.08794945686966837,\n",
       "  0.08794945686966837,\n",
       "  0.29245918906779095,\n",
       "  0.08784162541049507,\n",
       "  0.3034251744109259],\n",
       " 'top_features_2': ['manufacturer',\n",
       "  'manufacturer',\n",
       "  'type',\n",
       "  'manufacturer',\n",
       "  'type'],\n",
       " 'top_features_score_2': [0.06236629427019965,\n",
       "  0.06236629427019965,\n",
       "  0.21140224915491396,\n",
       "  0.06234348138826042,\n",
       "  0.28253125924567074],\n",
       " 'top_features_3': ['type', 'type', 'cylinders', 'type', 'cylinders'],\n",
       " 'top_features_score_3': [0.06015412765133016,\n",
       "  0.06015412765133016,\n",
       "  0.09801163192685224,\n",
       "  0.06008950947706758,\n",
       "  0.21206660513794998],\n",
       " 'top_features_4': ['condition',\n",
       "  'condition',\n",
       "  'fuel',\n",
       "  'condition',\n",
       "  'condition'],\n",
       " 'top_features_score_4': [0.046716942516177584,\n",
       "  0.046716942516177584,\n",
       "  0.08401073969809925,\n",
       "  0.04663654775624089,\n",
       "  0.2097491946965926],\n",
       " 'top_features_5': ['drive', 'drive', 'condition', 'drive', 'drive'],\n",
       " 'top_features_score_5': [0.029635665057376172,\n",
       "  0.029635665057376172,\n",
       "  0.07569728027922275,\n",
       "  0.029540011424854195,\n",
       "  0.19319084090657784]}"
      ]
     },
     "execution_count": 406,
     "metadata": {},
     "output_type": "execute_result"
    }
   ],
   "source": [
    "df = pd.DataFrame({\"Feature\":X.columns, \"Score\":rf_ohe_r.importances_mean}).sort_values(by = \"Score\", ascending = False)\n",
    "display(df)\n",
    "rf_ohe_feature_list = df.loc[df.index[:5]]['Feature'].tolist()\n",
    "rf_ohe_score_list = df.loc[df.index[:5]]['Score'].tolist()\n",
    "model_comp['top_features_1'].append(rf_ohe_feature_list[0])\n",
    "model_comp['top_features_2'].append(rf_ohe_feature_list[1])\n",
    "model_comp['top_features_3'].append(rf_ohe_feature_list[2])\n",
    "model_comp['top_features_4'].append(rf_ohe_feature_list[3])\n",
    "model_comp['top_features_5'].append(rf_ohe_feature_list[4])\n",
    "model_comp['top_features_score_1'].append(rf_ohe_score_list[0])\n",
    "model_comp['top_features_score_2'].append(rf_ohe_score_list[1])\n",
    "model_comp['top_features_score_3'].append(rf_ohe_score_list[2])\n",
    "model_comp['top_features_score_4'].append(rf_ohe_score_list[3])\n",
    "model_comp['top_features_score_5'].append(rf_ohe_score_list[4])\n",
    "model_comp"
   ]
  },
  {
   "cell_type": "code",
   "execution_count": null,
   "metadata": {},
   "outputs": [],
   "source": []
  },
  {
   "cell_type": "code",
   "execution_count": null,
   "metadata": {},
   "outputs": [],
   "source": []
  },
  {
   "cell_type": "code",
   "execution_count": null,
   "metadata": {},
   "outputs": [],
   "source": []
  },
  {
   "cell_type": "markdown",
   "metadata": {},
   "source": [
    "### Evaluation\n",
    "\n",
    "With some modeling accomplished, we aim to reflect on what we identify as a high quality model and what we are able to learn from this.  We should review our business objective and explore how well we can provide meaningful insight on drivers of used car prices.  Your goal now is to distill your findings and determine whether the earlier phases need revisitation and adjustment or if you have information of value to bring back to your client."
   ]
  },
  {
   "cell_type": "code",
   "execution_count": 426,
   "metadata": {},
   "outputs": [
    {
     "data": {
      "text/html": [
       "<div>\n",
       "<style scoped>\n",
       "    .dataframe tbody tr th:only-of-type {\n",
       "        vertical-align: middle;\n",
       "    }\n",
       "\n",
       "    .dataframe tbody tr th {\n",
       "        vertical-align: top;\n",
       "    }\n",
       "\n",
       "    .dataframe thead th {\n",
       "        text-align: right;\n",
       "    }\n",
       "</style>\n",
       "<table border=\"1\" class=\"dataframe\">\n",
       "  <thead>\n",
       "    <tr style=\"text-align: right;\">\n",
       "      <th></th>\n",
       "      <th>model</th>\n",
       "      <th>train_mse</th>\n",
       "      <th>test_mse</th>\n",
       "      <th>top_features_1</th>\n",
       "      <th>top_features_score_1</th>\n",
       "      <th>top_features_2</th>\n",
       "      <th>top_features_score_2</th>\n",
       "      <th>top_features_3</th>\n",
       "      <th>top_features_score_3</th>\n",
       "      <th>top_features_4</th>\n",
       "      <th>top_features_score_4</th>\n",
       "      <th>top_features_5</th>\n",
       "      <th>top_features_score_5</th>\n",
       "    </tr>\n",
       "  </thead>\n",
       "  <tbody>\n",
       "    <tr>\n",
       "      <th>2</th>\n",
       "      <td>linreg_ohe</td>\n",
       "      <td>136685207.89</td>\n",
       "      <td>167489572.52</td>\n",
       "      <td>manufacturer</td>\n",
       "      <td>0.292459</td>\n",
       "      <td>type</td>\n",
       "      <td>0.211402</td>\n",
       "      <td>cylinders</td>\n",
       "      <td>0.098012</td>\n",
       "      <td>fuel</td>\n",
       "      <td>0.084011</td>\n",
       "      <td>condition</td>\n",
       "      <td>0.075697</td>\n",
       "    </tr>\n",
       "    <tr>\n",
       "      <th>3</th>\n",
       "      <td>bay_ohe</td>\n",
       "      <td>163525707.14</td>\n",
       "      <td>183975092.76</td>\n",
       "      <td>fuel</td>\n",
       "      <td>0.087842</td>\n",
       "      <td>manufacturer</td>\n",
       "      <td>0.062343</td>\n",
       "      <td>type</td>\n",
       "      <td>0.060090</td>\n",
       "      <td>condition</td>\n",
       "      <td>0.046637</td>\n",
       "      <td>drive</td>\n",
       "      <td>0.029540</td>\n",
       "    </tr>\n",
       "    <tr>\n",
       "      <th>4</th>\n",
       "      <td>rf_ohe</td>\n",
       "      <td>163525707.14</td>\n",
       "      <td>183975092.76</td>\n",
       "      <td>manufacturer</td>\n",
       "      <td>0.303425</td>\n",
       "      <td>type</td>\n",
       "      <td>0.282531</td>\n",
       "      <td>cylinders</td>\n",
       "      <td>0.212067</td>\n",
       "      <td>condition</td>\n",
       "      <td>0.209749</td>\n",
       "      <td>drive</td>\n",
       "      <td>0.193191</td>\n",
       "    </tr>\n",
       "    <tr>\n",
       "      <th>0</th>\n",
       "      <td>ridge_ohe</td>\n",
       "      <td>163525638.70</td>\n",
       "      <td>183979123.87</td>\n",
       "      <td>fuel</td>\n",
       "      <td>0.087949</td>\n",
       "      <td>manufacturer</td>\n",
       "      <td>0.062366</td>\n",
       "      <td>type</td>\n",
       "      <td>0.060154</td>\n",
       "      <td>condition</td>\n",
       "      <td>0.046717</td>\n",
       "      <td>drive</td>\n",
       "      <td>0.029636</td>\n",
       "    </tr>\n",
       "    <tr>\n",
       "      <th>1</th>\n",
       "      <td>ridge_ohe_gcv</td>\n",
       "      <td>163525638.70</td>\n",
       "      <td>183979123.87</td>\n",
       "      <td>fuel</td>\n",
       "      <td>0.087949</td>\n",
       "      <td>manufacturer</td>\n",
       "      <td>0.062366</td>\n",
       "      <td>type</td>\n",
       "      <td>0.060154</td>\n",
       "      <td>condition</td>\n",
       "      <td>0.046717</td>\n",
       "      <td>drive</td>\n",
       "      <td>0.029636</td>\n",
       "    </tr>\n",
       "  </tbody>\n",
       "</table>\n",
       "</div>"
      ],
      "text/plain": [
       "           model     train_mse      test_mse top_features_1  \\\n",
       "2     linreg_ohe  136685207.89  167489572.52   manufacturer   \n",
       "3        bay_ohe  163525707.14  183975092.76           fuel   \n",
       "4         rf_ohe  163525707.14  183975092.76   manufacturer   \n",
       "0      ridge_ohe  163525638.70  183979123.87           fuel   \n",
       "1  ridge_ohe_gcv  163525638.70  183979123.87           fuel   \n",
       "\n",
       "   top_features_score_1 top_features_2  top_features_score_2 top_features_3  \\\n",
       "2              0.292459           type              0.211402      cylinders   \n",
       "3              0.087842   manufacturer              0.062343           type   \n",
       "4              0.303425           type              0.282531      cylinders   \n",
       "0              0.087949   manufacturer              0.062366           type   \n",
       "1              0.087949   manufacturer              0.062366           type   \n",
       "\n",
       "   top_features_score_3 top_features_4  top_features_score_4 top_features_5  \\\n",
       "2              0.098012           fuel              0.084011      condition   \n",
       "3              0.060090      condition              0.046637          drive   \n",
       "4              0.212067      condition              0.209749          drive   \n",
       "0              0.060154      condition              0.046717          drive   \n",
       "1              0.060154      condition              0.046717          drive   \n",
       "\n",
       "   top_features_score_5  \n",
       "2              0.075697  \n",
       "3              0.029540  \n",
       "4              0.193191  \n",
       "0              0.029636  \n",
       "1              0.029636  "
      ]
     },
     "execution_count": 426,
     "metadata": {},
     "output_type": "execute_result"
    }
   ],
   "source": [
    "df_comparison = pd.DataFrame(model_comp).sort_values(by = \"test_mse\")\n",
    "df_comparison"
   ]
  },
  {
   "cell_type": "code",
   "execution_count": 430,
   "metadata": {},
   "outputs": [],
   "source": [
    "df_comparison['model'] = df_comparison['model'].str.replace(\"linreg_ohe\",\"Linear Regression (One Hot Encoder)\")\n",
    "df_comparison['model'] = df_comparison['model'].str.replace(\"bay_ohe\",\"Bayesian Regression (One Hot Encoder)\")\n",
    "df_comparison['model'] = df_comparison['model'].str.replace(\"rf_ohe\",\"RandomForest Regression (One Hot Encoder)\")\n",
    "df_comparison['model'] = df_comparison['model'].str.replace(\"ridge_ohe\",\"Ridge Regression (One Hot Encoder)\")\n",
    "df_comparison['model'] = df_comparison['model'].str.replace(\"ridge_ohe_gcv\",\"Ridge Regression CV (One Hot Encoder)\")"
   ]
  },
  {
   "cell_type": "code",
   "execution_count": 431,
   "metadata": {},
   "outputs": [
    {
     "data": {
      "image/png": "[encoded data removed]",
      "text/plain": [
       "<Figure size 2160x2880 with 2 Axes>"
      ]
     },
     "metadata": {},
     "output_type": "display_data"
    }
   ],
   "source": [
    "fig, ax = plt.subplots(2, 1, figsize = (30, 40))\n",
    "ax[0].plot(df_comparison['model'], df_comparison['train_mse'], '--g', label = 'Training Error')\n",
    "ax[0].plot(df_comparison['model'], df_comparison['test_mse'], '--b', label = 'Test Error')\n",
    "ax[0].set_xlabel([], fontsize = 20) # X label\n",
    "plt.setp(ax[0].get_xticklabels(), fontsize=14)\n",
    "plt.setp(ax[0].get_yticklabels(), fontsize=14)\n",
    "ax[0].tick_params(labelrotation=45)\n",
    "ax[0].legend(fontsize=14);"
   ]
  },
  {
   "cell_type": "code",
   "execution_count": null,
   "metadata": {},
   "outputs": [],
   "source": []
  },
  {
   "cell_type": "code",
   "execution_count": null,
   "metadata": {},
   "outputs": [],
   "source": []
  },
  {
   "cell_type": "code",
   "execution_count": null,
   "metadata": {},
   "outputs": [],
   "source": []
  },
  {
   "cell_type": "code",
   "execution_count": null,
   "metadata": {},
   "outputs": [],
   "source": []
  },
  {
   "cell_type": "markdown",
   "metadata": {},
   "source": [
    "### Deployment\n",
    "\n",
    "Now that we've settled on our models and findings, it is time to deliver the information to the client.  You should organize your work as a basic report that details your primary findings.  Keep in mind that your audience is a group of used car dealers interested in fine tuning their inventory."
   ]
  },
  {
   "cell_type": "markdown",
   "metadata": {},
   "source": [
    "### Captured in README file"
   ]
  },
  {
   "cell_type": "code",
   "execution_count": null,
   "metadata": {},
   "outputs": [],
   "source": []
  },
  {
   "cell_type": "code",
   "execution_count": null,
   "metadata": {},
   "outputs": [],
   "source": []
  }
 ],
 "metadata": {
  "kernelspec": {
   "display_name": "Python 3 (ipykernel)",
   "language": "python",
   "name": "python3"
  },
  "language_info": {
   "codemirror_mode": {
    "name": "ipython",
    "version": 3
   },
   "file_extension": ".py",
   "mimetype": "text/x-python",
   "name": "python",
   "nbconvert_exporter": "python",
   "pygments_lexer": "ipython3",
   "version": "3.9.7"
  },
  "widgets": {
   "application/vnd.jupyter.widget-state+json": {
    "state": {},
    "version_major": 2,
    "version_minor": 0
   }
  }
 },
 "nbformat": 4,
 "nbformat_minor": 4
}
